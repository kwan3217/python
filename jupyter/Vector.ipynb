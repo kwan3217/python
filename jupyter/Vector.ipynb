{
 "cells": [
  {
   "cell_type": "markdown",
   "metadata": {},
   "source": [
    "I don't like the way numpy vector operations work, so I will implement my own, based on numpy element operations and total. All of these will work on stacks of vectors, where the first index indicates the vector component. If you want a 1D group of vectors, you want a 2D numpy array, where each column is a vector. \n",
    "\n",
    "As is customary for doing numerical work in interpreted languages, we want to be able to do operations on as large of arrays as possible without using an interpreted loop. In numpy as in IDL, we do this by doing array operations.\n",
    "\n",
    "Frequently in order to have as large of an array as possible, we wil *stack* together vectors. We mostly use column vectors, so a 1D stack of vectors is a 2D array, where each column is one vector. A 1D stack of 2D matrices is a 3D array. We can imagine higher-dimension stacks easily -- if you have an nD stack of m-rank tensor objects, you need a (n+m)D numpy array. However, numpy itself doesn't have any concept of stacks and ranks, so you have to manually keep track of which array index is for the stack and which is for the object.\n",
    "\n",
    "One inconvenient thing about array indexing in numpy is that it seems to be hard to make consistent. A 1D array of course only has one index. A row vector is a 2D array of size (1,n) while a column vector (most of the time we use column vectors) has size (n,1). Numpy doesn't make it easy to compose 1D vectors, row vectors, and/or column vectors, so they will usually have to be explicitly resized.\n",
    "\n",
    "Further, if you have a stack of column vectors, it ends up being in the form (vector component, stack index). This is fine, because it exactly matches the form of a matrix. This is especially convenient when we want to transform a stack of vectors $[\\mathbf{X}]=\\begin{bmatrix}\\vec{x}_0 & \\vec{x}_1 & ... & \\vec{x}_{n-1}\\end{bmatrix}$ with a matrix $[\\mathbf{A}]$ all at once: Just do a matrix multiply $[\\mathbf{A}][\\mathbf{X}]$.\n",
    "\n",
    "Where things get inconsistent is higher dimensional stacks of vectors, or stacks of matrices. For a 1D stack of matrices, the indexes are (stack index, row index, column index). For a 2D stack of column vectors, we would have (stack1 index, vector component, stack0 index) (to keep things consistent with matrices). So, for vectors, the first stack index is the last index, but for matrices, all stack indexes are before the row and column indexes. For higher dimensional stacks of vectors, the first stack index is the last index, but all the other stack indexes come before the vector component index. This is mandated by how the `@` operator (implemented by [`numpy.matmul`](https://docs.scipy.org/doc/numpy/reference/generated/numpy.matmul.html)) treats indexes.\n",
    "\n",
    "For a 1D stack of vectors with a total array shape of (n_comp,n_stack), we say the shape of the stack is (n_stack,). For a 2D stack of shape (n_stack0,n_comp,n_stack1), the stack shape is (n_stack0,n_stack1). For higher order stacks (n_stack0,n_stack1,...,n_stackn-1,n_comp,n_stackn) the stack shape is (n_stack0,n_stack1,n_stackn-1,n_stackn). Functions `vdot()`, `vlength()`, and `vangle()` which naturally take vector arguments and return scalars will return a stack of scalars, IE if you pass an nD stack of vectors (a numpy (n+1)D array), you will get a stack of scalars, IE a numpy nD array.\n",
    "\n",
    "All of the complexity in these functions is just with dealing with stacks."
   ]
  },
  {
   "cell_type": "code",
   "execution_count": null,
   "metadata": {
    "pycharm": {
     "is_executing": false
    }
   },
   "outputs": [],
   "source": [
    "import numpy as np\n",
    "def vindex(v):\n",
    "    if len(v.shape)>2:\n",
    "        return len(v.shape)-2\n",
    "    return 0\n",
    "\n",
    "def vncomp(v):\n",
    "    return v.shape[vindex(v)]\n",
    "\n",
    "def vcomplimit(v,n):\n",
    "    \"\"\"\n",
    "    Return a stack of vectors with the same shape as the input stack, but only\n",
    "    including the first n vector components.\n",
    "    :param v: input vector. Must have at least n components\n",
    "    :param n: Number of vector components to keep\n",
    "    :return:\n",
    "    \"\"\"\n",
    "    if vindex(v)==0:\n",
    "        return v[:n,...]\n",
    "    else:\n",
    "        return v[...,:n,:]\n",
    "\n",
    "def vdot(a,b,array=False):\n",
    "    \"\"\"\n",
    "    Dot product of two vectors or stack of vectors\n",
    "    :param a: (nD stack of) Vector(s) for first dot product operand\n",
    "    :param b: (nD stack of) Vector(s) for second dot product operand\n",
    "    :param array: If true and passed a single vector for each operand, return a\n",
    "        numpy 1D array result. Otherwise you will get a scalar result if you pass\n",
    "        in single vector operands. No effect if passed stacks as either operand\n",
    "    :return: Dot product(s) of inputs\n",
    "    This uses numpy broadcasting to calculate the result, so the operands do not\n",
    "    have to be the same size, just broadcast-compatible. In this case, the result\n",
    "    may be larger than either input.\n",
    "    \n",
    "    If one input has more components than the other, the result will be equivalent\n",
    "    to the result of the shorter input having the same number of components, all\n",
    "    of which are zero. Equivalently, the result is equivalent to the longer input\n",
    "    being truncated to match the length of the shorter input. Note that this only\n",
    "    applies to the vector component -- all other axes of a stack are subject to \n",
    "    numpy broadcast rules.\n",
    "    \"\"\"\n",
    "    n=np.min((vncomp(a),vncomp(b)))\n",
    "    c=vcomplimit(a,n)*vcomplimit(b,n)\n",
    "    result=np.sum(c,axis=vindex(c))\n",
    "    if result.size==1 and not array:\n",
    "        result=result.ravel()[0]\n",
    "    if np.isscalar(result) and array:\n",
    "        result=np.array([result])\n",
    "    return result\n",
    "\n",
    "\n",
    "def vlength(v,array=False):\n",
    "    \"\"\"\n",
    "    Compute the length of a vector as the square root of the vector's dot product with itself\n",
    "    :param v: (Stack of) Vector(s) to compute the length of\n",
    "    :param array: Passed to vdot\n",
    "    If true and passed a single vector, return a numpy 1D array result. Otherwise\n",
    "                  you will get a scalar result if you pass a single vector.\n",
    "    \"\"\"\n",
    "    return np.sqrt(vdot(v,v,array))\n",
    "\n",
    "def vangle(a,b,array=False):\n",
    "    \"\"\"\n",
    "    Compute the angle between two vectors\n",
    "    :param a: (stack of) first  vector operand(s)\n",
    "    :param b: (stack of) second vector operand(s)\n",
    "    :param array: Passed to vdot and vlength\n",
    "    :return: Angle(s) between two (stacks of) vectors in radians\n",
    "    \"\"\"\n",
    "    return np.arccos(vdot(a,b,array)/vlength(a,array)/vlength(b,array))\n",
    "\n",
    "def vcomp(v,l=None,minlen=None,maxlen=None):\n",
    "    \"\"\"\n",
    "    Break a vector into components. an nD stack of m-element vectors will return a tuple with up to m elements,\n",
    "    each of which will be an nD stack of scalars\n",
    "    :param v: nD stack of m-element vectors, An nD stack of m-element vectors, a numpy (n+1)D array with shape\n",
    "        (n_stack0,n_stack1,...,n_stackn-2,m,n_stackn-1)\n",
    "    :param minlen: If passed, this will pad out the returned vector components with zero scalars\n",
    "        such that the returned tuple has minlen components. We do zero scalars rather than zero arrays\n",
    "        of the same size as the other components to save memory, since a scalar is compatible by\n",
    "        broadcasting with an array of any size.\n",
    "    :param maxlen: If passed, this will restrict the returned vector components to the given\n",
    "        size, even if the input vector has more components.\n",
    "    :return: A tuple. Each element is a vector component. Vector components pulled from the vector will be\n",
    "        an nD stack of scalars, a numpy nD array with shape (n_stack0,n_stack1,...,n_stackn-2,n_stackn-1).\n",
    "        Vector components which are made up will be scalar zeros.\n",
    "    Note: If you pass maxlen<minlen, the result is still well-defined, since the maxlen is used first,\n",
    "          then the minlen. If you pass a vector with m=4, a minlen of 7, and a maxlen of 2, you will get\n",
    "          a result with the first two components of the vector, followed by 5 zeros. I'm not sure if this\n",
    "          is useful, but there it is.\n",
    "    \"\"\"\n",
    "    if maxlen is None and l is not None:\n",
    "        maxlen=l\n",
    "    if minlen is None and l is not None:\n",
    "        minlen=l\n",
    "    ndStack=len(v.shape) > 2\n",
    "    efflen=v.shape[-2 if ndStack else 0]\n",
    "    if maxlen is not None and maxlen<efflen:\n",
    "        efflen=maxlen\n",
    "    result=tuple([v[...,i,:] if ndStack else v[i,...] for i in range(efflen)])\n",
    "    if minlen is not None and minlen>efflen:\n",
    "        result=result+(0,)*(minlen-efflen)\n",
    "    return result\n",
    "\n",
    "def vcross(a,b):\n",
    "    \"\"\"\n",
    "    Compute the three-dimensional cross-product of two vectors or stack of vectors\n",
    "    :param a: (nD stack of) Vector(s) for first cross product operand\n",
    "    :param b: (nD stack of) Vector(s) for second cross product operand\n",
    "    :return: Cross product(s) of inputs\n",
    "    This uses numpy broadcasting to calculate the result, so the operands do not\n",
    "    have to be the same size, just broadcast-compatible. In this case, the result\n",
    "    may be larger than either input.\n",
    "    If either of the input vectors have fewer than three components, the extra components\n",
    "    are made up and assumed to be zero. The result will always have three components.\n",
    "    \"\"\"\n",
    "    (ax,ay,az)=vcomp(a,minlen=3,maxlen=3)\n",
    "    (bx,by,bz)=vcomp(b,minlen=3,maxlen=3)\n",
    "    cx=ay*bz-az*by\n",
    "    cy=az*bx-ax*bz\n",
    "    cz=ax*by-ay*bx\n",
    "    if len(cx.shape)>=2:\n",
    "        axis=-2\n",
    "    else:\n",
    "        axis=0\n",
    "    result=np.stack([cx,cy,cz],axis=axis)\n",
    "    return result\n",
    "\n"
   ]
  },
  {
   "cell_type": "code",
   "execution_count": null,
   "metadata": {
    "pycharm": {
     "is_executing": false
    }
   },
   "outputs": [],
   "source": [
    "print(\"1D row vectors\")\n",
    "a=np.array([1,2,3])\n",
    "b=np.array([1,1,1])\n",
    "ab=vdot(a,b)\n",
    "print(\"a =\",a)\n",
    "print(\"b =\",b)\n",
    "print(\"ab=\",ab,\" Should be 6\")"
   ]
  },
  {
   "cell_type": "code",
   "execution_count": null,
   "metadata": {
    "pycharm": {
     "is_executing": false
    }
   },
   "outputs": [],
   "source": [
    "print(\"1D row vectors, mismatched length\")\n",
    "a=np.array([1,2,3])\n",
    "b=np.array([1,1])\n",
    "ab=vdot(a,b)\n",
    "print(\"a =\",a)\n",
    "print(\"b =\",b)\n",
    "print(\"ab=\",ab,\" Should be 3\")"
   ]
  },
  {
   "cell_type": "code",
   "execution_count": null,
   "metadata": {
    "pycharm": {
     "is_executing": false
    }
   },
   "outputs": [],
   "source": [
    "print(\"1D row vectors, array=True\")\n",
    "a=np.array([1,2,3])\n",
    "b=np.array([1,1,1])\n",
    "ab=vdot(a,b,array=True)\n",
    "print(\"a =\",a)\n",
    "print(\"b =\",b)\n",
    "print(\"ab=\",ab,\" Should be [6]\")"
   ]
  },
  {
   "cell_type": "code",
   "execution_count": null,
   "metadata": {
    "pycharm": {
     "is_executing": false
    }
   },
   "outputs": [],
   "source": [
    "print(\"1D column vectors\")\n",
    "a=np.array([[1],[2],[3]])\n",
    "b=np.array([[1],[1],[1]])\n",
    "ab=vdot(a,b)\n",
    "print(\"a =\",a)\n",
    "print(\"b =\",b)\n",
    "print(\"ab=\",ab,\" Should be 6\")"
   ]
  },
  {
   "cell_type": "code",
   "execution_count": null,
   "metadata": {
    "pycharm": {
     "is_executing": false
    }
   },
   "outputs": [],
   "source": [
    "print(\"1D stack of column vectors\")\n",
    "a=np.array([[1,1],[2,2],[3,3]])\n",
    "b=np.array([[1,1],[1,1],[1,1]])\n",
    "ab=vdot(a,b)\n",
    "print(\"a =\",a)\n",
    "print(\"b =\",b)\n",
    "print(\"ab=\",ab, \" Should be [6,6]\")"
   ]
  },
  {
   "cell_type": "code",
   "execution_count": null,
   "metadata": {
    "pycharm": {
     "is_executing": false
    }
   },
   "outputs": [],
   "source": [
    "print(\"(2,2) stack of 3-element column vectors\")\n",
    "a=np.array([1,2,3])\n",
    "a=np.stack((a,a),axis=1)\n",
    "a=np.stack((a,a))\n",
    "print(\"a =\",a,a.shape)\n",
    "b=np.array([1,1,1])\n",
    "b=np.stack((b,b),axis=1)\n",
    "b=np.stack((b,b))\n",
    "print(\"b =\",b,b.shape)\n",
    "ab=vdot(a,b)\n",
    "print(\"ab=\",ab, \" Should be 2D array [[6,6],[6,6]]\",ab.shape)"
   ]
  },
  {
   "cell_type": "code",
   "execution_count": null,
   "metadata": {
    "pycharm": {
     "is_executing": false
    }
   },
   "outputs": [],
   "source": [
    "print(\"2-element cross product\")\n",
    "a=np.array([[1],[0]])\n",
    "print(\"a =\",a)\n",
    "b=np.array([[0],[1]])\n",
    "print(\"b =\",b)\n",
    "ab=vcross(a,b)\n",
    "print(\"ab=\",ab,\" Should be column vector [[0],[0],[1]]\",ab.shape)"
   ]
  },
  {
   "cell_type": "code",
   "execution_count": null,
   "metadata": {
    "pycharm": {
     "is_executing": false
    }
   },
   "outputs": [],
   "source": [
    "print(\"2-element stack cross product\")\n",
    "a=np.array([[1,1],[0,0]])\n",
    "print(\"a =\",a)\n",
    "b=np.array([[0,0],[1,1]])\n",
    "print(\"b =\",b)\n",
    "ab=vcross(a,b)\n",
    "print(\"ab=\",ab,\" Should be 1D stack of column vectors [[0,0],[0,0],[1,1]]\",ab.shape)"
   ]
  },
  {
   "cell_type": "code",
   "execution_count": null,
   "metadata": {
    "pycharm": {
     "is_executing": false
    }
   },
   "outputs": [],
   "source": [
    "print(\"3-element stack cross product\")\n",
    "a=np.array([[1,1],[0,0],[2,2]])\n",
    "b=np.array([[0,0],[1,1],[2,2]])\n",
    "ab=vcross(a,b)\n",
    "print(\"a =\",a,a.shape)\n",
    "print(\"b =\",b,b.shape)\n",
    "print(\"ab=\",ab,\" Shape should be (3,2)\",ab.shape)"
   ]
  },
  {
   "cell_type": "code",
   "execution_count": null,
   "metadata": {
    "pycharm": {
     "is_executing": false
    }
   },
   "outputs": [],
   "source": [
    "print(\"Cross product of (2,2) stack of 3-element column vectors\")\n",
    "a=np.array([1,2,3])\n",
    "a=np.stack((a,a),axis=1)\n",
    "a=np.stack((a,a))\n",
    "print(\"a =\",a,a.shape)\n",
    "b=np.array([1,1,1])\n",
    "b=np.stack((b,b),axis=1)\n",
    "b=np.stack((b,b))\n",
    "print(\"b =\",b,b.shape)\n",
    "ab=vcross(a,b)\n",
    "print(\"ab=\",ab,\" Shape should be (2,3,2)\",ab.shape)"
   ]
  },
  {
   "cell_type": "code",
   "execution_count": null,
   "metadata": {
    "pycharm": {
     "is_executing": false
    }
   },
   "outputs": [],
   "source": [
    "print(\"Cross product of row vectors\")\n",
    "a=np.array([1,0,2])\n",
    "b=np.array([0,1,2])\n",
    "ab=vcross(a,b)\n",
    "print(\"a =\",a,a.shape)\n",
    "print(\"b =\",b,b.shape)\n",
    "print(\"ab=\",ab,\" Shape should be (3,)\",ab.shape)"
   ]
  }
 ],
 "metadata": {
  "kernelspec": {
   "display_name": "Python 3",
   "language": "python",
   "name": "python3"
  },
  "language_info": {
   "codemirror_mode": {
    "name": "ipython",
    "version": 3
   },
   "file_extension": ".py",
   "mimetype": "text/x-python",
   "name": "python",
   "nbconvert_exporter": "python",
   "pygments_lexer": "ipython3",
   "version": "3.6.8"
  }
 },
 "nbformat": 4,
 "nbformat_minor": 2
}
