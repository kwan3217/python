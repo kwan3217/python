{
 "cells": [
  {
   "cell_type": "markdown",
   "metadata": {},
   "source": [
    "# Problem Statement\n",
    "The Voyager project supported a visualization effort led by Jim Blinn. This produced a number of simulated videos of the mission, including one which shows the interplanetary trajectories of both spacecraft. I call this video the \"supertrajectory\" after the name of the kernel used.\n",
    "\n",
    "I want to do a remaster of this video, to the point where Jim himself wouldn't be able to distinguish, except for being in HD. I want it to be a drop-in replacement for the original video from the 80s. I am using POV-Ray as the hammer to squash a flea, but I need exact camera parameters and pointing to do it right. Fortunately, the Blinn videos have an accurate starfield behind them, and since I have a catalog of all the bright stars, I can find and track the stars. Then, I just need a star camera algorithm...\n",
    "\n",
    "The best copy of the supertrajectory that I can find online is on [YouTube](https://www.youtube.com/watch?v=wNf9BPTjvYo). I have downloaded that video and parsed it into files:\n",
    "\n"
   ]
  },
  {
   "cell_type": "markdown",
   "metadata": {},
   "source": [
    "![First frame](https://omoikane.kwansystems.org/~chrisj/workspace/Data/Prototype/Blinn/SuperTrajectory/frame0094.png \"Also, my remaster won't have any watermarks\")"
   ]
  },
  {
   "cell_type": "code",
   "execution_count": null,
   "metadata": {},
   "outputs": [],
   "source": []
  }
 ],
 "metadata": {
  "kernelspec": {
   "display_name": "Python 3",
   "language": "python",
   "name": "python3"
  },
  "language_info": {
   "codemirror_mode": {
    "name": "ipython",
    "version": 3
   },
   "file_extension": ".py",
   "mimetype": "text/x-python",
   "name": "python",
   "nbconvert_exporter": "python",
   "pygments_lexer": "ipython3",
   "version": "3.6.9"
  }
 },
 "nbformat": 4,
 "nbformat_minor": 2
}
