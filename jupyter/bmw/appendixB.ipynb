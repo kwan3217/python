{
 "cells": [
  {
   "cell_type": "markdown",
   "metadata": {},
   "source": [
    "# MISCELLANEOUS CONSTANTS AND CONVERSIONS\n",
    "$$\\begin{eqnarray*}\n",
    "\\mbox{second}&=&1.239446309\\times 10^{-3} & \\mbox{TU}_\\oplus\\\\\n",
    "\\mbox{degree}/\\mbox{sec}&=&14.08152366 &\\mbox{radian}/\\mbox{TU}_\\oplus\\\\ \n",
    "\\mbox{radian}/\\mbox{TU}_\\oplus&=&0.0710150424&\\mbox{degree}/\\mbox{sec}\\\\\n",
    "\\mbox{foot}&=&4.77881892\\times 10^{-8}&\\mbox{DU}_\\oplus\\\\\n",
    "\\mbox{(statute) mile}&=&2.52321639\\times 10^{-4}&\\mbox{DU}_\\oplus\\\\\n",
    "\\mbox{nautical mile}&=&2.903665564\\times 10^{-4}&\\mbox{DU}_\\oplus\\\\\n",
    "\\mbox{foot}/\\mbox{sec}&=&3.85560785\\times 10^{-5}&\\mbox{DU}_\\oplus/\\mbox{TU}_\\oplus \\\\ \n",
    "\\mbox{km}/\\mbox{sec}&=&.1264963205 &\\mbox{DU}_\\oplus/\\mbox{TU}_\\oplus \\\\ \n",
    "\\mbox{nautical mile}/\\mbox{sec}&=&0.2342709 &\\mbox{DU}_\\oplus/\\mbox{TU}_\\oplus \\\\ \n",
    "\\frac{2\\pi}{\\sqrt{\\mu_\\oplus}}&=&\\begin{cases}\n",
    "5.295817457\\times 10^{-8} & \\mbox{sec}/\\mbox{ft}^{3/2} \\\\\n",
    "9.952004586\\times 10^{-3} & \\mbox{sec}/\\mbox{km}^{3/2} \\\\\n",
    "\\end{cases}\n",
    "\\end{eqnarray*}$$\n",
    "\n",
    "The above values are consistent with the $r_\\oplus$ and $\\mu_\\oplus$ of Appendix A. \n",
    "\n",
    "$$\\begin{eqnarray*}\n",
    "\\pi&=&\\,3.14159\\,26535\\,9 &\\mbox{(radians)} \\\\\n",
    "\\mbox{degree}&=&\\,0.01745\\,32925\\,199&\\mbox{radians} \\\\\n",
    "\\mbox{radian}&=&57.29577\\,95131&\\mbox{degrees }\n",
    "\\end{eqnarray*}$$\n",
    "\n",
    "The following values have been established by international agreement and are exact as shown, i.e., there is no roundoff or truncation. \n",
    "\n",
    "$$\\begin{eqnarray*}\n",
    "\\mbox{foot}&=& 0.3048&\\mbox{(exact) meters} \\\\\n",
    "\\mbox{(statute) mile}&=&1609.344&\\mbox{(exact) meters} \\\\\n",
    "\\mbox{nautical mile}&=&1852&\\mbox{(exact) meters} \\\\\n",
    "\\end{eqnarray*}$$\n",
    "\n"
   ]
  },
  {
   "cell_type": "code",
   "execution_count": null,
   "metadata": {},
   "outputs": [],
   "source": [
    "%%capture\n",
    "%run appendixA.ipynb\n",
    "#This appendix should never need to be run from another module, as it just\n",
    "#uses constants from appendix A to check the book."
   ]
  },
  {
   "cell_type": "code",
   "execution_count": null,
   "metadata": {},
   "outputs": [],
   "source": [
    "print(\"second=%.9e TU_earth\"%(1/tu_s))"
   ]
  },
  {
   "cell_type": "code",
   "execution_count": null,
   "metadata": {},
   "outputs": [],
   "source": [
    "print(\"degree/sec=%.8f radian/TU_earth\"%np.radians(tu_s))"
   ]
  },
  {
   "cell_type": "code",
   "execution_count": null,
   "metadata": {},
   "outputs": [],
   "source": [
    "print(\"radian/TU_earth=%.10f degree/sec\"%np.degrees(1/tu_s)) \n",
    "#     should be 0.0710150424, matches until 9th digit after dp, or 8 significant figures"
   ]
  },
  {
   "cell_type": "code",
   "execution_count": null,
   "metadata": {},
   "outputs": [],
   "source": [
    "print(\"foot=%.8e DU_earth\"%(1/re_ft))"
   ]
  },
  {
   "cell_type": "code",
   "execution_count": null,
   "metadata": {},
   "outputs": [],
   "source": [
    "print(\"mile=%.8e DU_earth\"%(1/re_mi))"
   ]
  },
  {
   "cell_type": "code",
   "execution_count": null,
   "metadata": {},
   "outputs": [],
   "source": [
    "print(\"nmi=%.9e DU_earth\"%(1/re_nmi))\n",
    "#sb 2.903665564, matches until 9th after dp, or 9 significant figures"
   ]
  },
  {
   "cell_type": "code",
   "execution_count": null,
   "metadata": {},
   "outputs": [],
   "source": [
    "print(\"foot/sec=%.8e DU_earth/TU_earth\"%(1/(re_ft/tu_s)))\n",
    "#sb      3.85560785, matches until 8th after dp, or 9 significiant figures"
   ]
  },
  {
   "cell_type": "code",
   "execution_count": null,
   "metadata": {},
   "outputs": [],
   "source": [
    "print(\"km/sec=%.10f DU_earth/TU_earth\"%(1/(re_km/tu_s)))\n",
    "#sb     .1264963205, matches until 8th after dp, or 8 significant figures"
   ]
  },
  {
   "cell_type": "code",
   "execution_count": null,
   "metadata": {},
   "outputs": [],
   "source": [
    "print(\"nmi/sec=%.7f DU_earth/TU_earth\"%(1/(re_nmi/tu_s)))\n",
    "#sb     0.2342709, matches until 7th after dp, or 7 significant figures"
   ]
  },
  {
   "cell_type": "code",
   "execution_count": null,
   "metadata": {},
   "outputs": [],
   "source": [
    "print(\"2pi/sqrt(mu)=%.9e sec/ft^(3/2)\"%(2*np.pi/np.sqrt(mu_ft)))\n",
    "#sb          5.295817457e-08, matches until 9th after dp, or 9 significant figures"
   ]
  },
  {
   "cell_type": "code",
   "execution_count": null,
   "metadata": {},
   "outputs": [],
   "source": [
    "print(\"2pi/sqrt(mu)=%.9e sec/km^(3/2)\"%(2*np.pi/np.sqrt(mu_km)))\n",
    "#sb          9.952004586e-03, matches until 7th after dp, or 8 significant figures"
   ]
  },
  {
   "cell_type": "code",
   "execution_count": null,
   "metadata": {},
   "outputs": [],
   "source": [
    "print(\"pi=%.11f\"%np.pi)\n",
    "#sb3.14159265359"
   ]
  },
  {
   "cell_type": "code",
   "execution_count": null,
   "metadata": {},
   "outputs": [],
   "source": [
    "print(\"degree=%.13f radians\"%np.radians(1))\n",
    "#sb    0.0174532925199"
   ]
  },
  {
   "cell_type": "code",
   "execution_count": null,
   "metadata": {},
   "outputs": [],
   "source": [
    "print(\"radian=%.10f degrees\"%np.degrees(1))\n",
    "#sb    57.2957795131"
   ]
  },
  {
   "cell_type": "code",
   "execution_count": null,
   "metadata": {},
   "outputs": [],
   "source": [
    "print(\"foot=%.16f meters\"%m_per_ft)"
   ]
  },
  {
   "cell_type": "code",
   "execution_count": null,
   "metadata": {},
   "outputs": [],
   "source": [
    "print(\"mile=%.12f meters\"%(m_per_ft*5280))"
   ]
  },
  {
   "cell_type": "code",
   "execution_count": null,
   "metadata": {},
   "outputs": [],
   "source": [
    "print(\"nautical mile=%.12f meters\"%m_per_nmi)"
   ]
  },
  {
   "cell_type": "code",
   "execution_count": null,
   "metadata": {},
   "outputs": [],
   "source": []
  }
 ],
 "metadata": {
  "kernelspec": {
   "display_name": "Python 3",
   "language": "python",
   "name": "python3"
  },
  "language_info": {
   "codemirror_mode": {
    "name": "ipython",
    "version": 3
   },
   "file_extension": ".py",
   "mimetype": "text/x-python",
   "name": "python",
   "nbconvert_exporter": "python",
   "pygments_lexer": "ipython3",
   "version": "3.7.5"
  }
 },
 "nbformat": 4,
 "nbformat_minor": 4
}
