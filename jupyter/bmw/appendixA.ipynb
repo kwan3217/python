{
 "cells": [
  {
   "cell_type": "markdown",
   "metadata": {},
   "source": [
    "# Astrodynamic Constants*\n",
    "\n",
    "|Geocentric |Canonical Units|English Units|Metric Units|\n",
    "|---|---|---|---|\n",
    "|Mean Equatorial<br />Radius, $r_\\oplus$|1 DU<sub>$\\oplus$</sub>  |2.092567257$\\times$10<sup>7</sup> ft<br />3963.195563 miles<br />3443.922786 NM  | 6378.145 km |\n",
    "|Time Unit| 1 TU<sub>$\\oplus$</sub>|13.44686457 min|806.8118744 sec|\n",
    "|Speed Unit| 1$\\frac{\\mbox{DU}_\\oplus}{\\mbox{TU}_\\oplus}$| 25396.24764 $\\frac{\\mbox{ft}}{\\mbox{sec}}$|7.90536828$\\frac{\\mbox{km}}{\\mbox{sec}}$ |\n",
    "|Gravitational<br />Parameter, $\\mu_\\oplus$|1$\\frac{\\mbox{DU}^3_\\oplus}{\\mbox{TU}^2_\\oplus}$|1.407646882$\\times$10<sup>16</sup>$\\frac{\\mbox{ft}^3}{\\mbox{sec}^2}$|3.986012$\\times$10<sup>5</sup>$\\frac{\\mbox{km}^3}{\\mbox{sec}^2}$|\n",
    "|Angular<br />Rotation, $\\omega_\\oplus$|0.0588336565$\\frac{\\mbox{rad}}{\\mbox{TU}_\\oplus}$|.2506844773$\\frac{\\mbox{deg}}{\\mbox{min}}$|7.292115856$\\times$10<sup>-5</sup>$\\frac{\\mbox{rad}}{\\mbox{sec}}$|\n"
   ]
  },
  {
   "cell_type": "code",
   "execution_count": null,
   "metadata": {},
   "outputs": [],
   "source": [
    "import numpy as np\n",
    "#Consistency is key. We will always use the following symbols:\n",
    "#  m  - SI meter, defined in terms of the speed of light, 1983\n",
    "#  km - exactly 1000m\n",
    "#  ft - International foot from International Pound and Yard Agreement of 1959\n",
    "#  nmi - international nautical mile adopted by the First International \n",
    "#        Extraordinary Hydrographic Conference in 1929 and by the United States in 1954\n",
    "#  kg - SI kilogram, fundamental unit of mass defined in terms of Planck's constant, 2019\n",
    "#  lb - International pound from ibid, 1959\n",
    "#  s  - SI second, fundamental time unit defined in terms of Cesium clock, SI definition as of 1967\n",
    "#  min - exactly 60s\n",
    "#All unit conversions will be done as unit1_per_unit2, the number of units in unit1\n",
    "#   equal to one unit of unit2. To convert unit1 to unit2, multiply a value in unit1 by unit1_per_unit2.\n",
    "#All unit conversions will have one primary standard, and the inverse unit2_per_unit1 defined by reciprocal.\n",
    "#All constants will have one primary value, usually the one with the most significant figures in Appendix A.\n",
    "#All other values will be shown to match appendix A to the given significant figures, but calculated from\n",
    "#   the primary value with fill IEEE-754 double-precision arithmetic (IE 15+ significant figures)\n",
    "#All constants will be in the form qty_unit, so re_ft for radius of Earth in feet.\n",
    "#Table quantities:\n",
    "#  re - Mean Equatorial radius of Earth, 1DU_earth\n",
    "#  au - astronomical unit, nominal mean distance between Earth and Sun\n",
    "#  tu - Canonical Earth Time unit, time of 1 radian of travel of circular surface orbit\n",
    "#  tusun - Canonical Sun time unit, time of 1 radian of travel of circular 1AU orbit\n",
    "#  mu - Gravitational parameter. Time unit will always be seconds, so only distance unit is subscripted.\n",
    "#  musun - Gravitational parameter of Sun.\n",
    "#Time unit and gravitational parameter are related by circular orbit period equation. Gravitational parameter\n",
    "#   is taken as primary since the equation is already solved that way.\n",
    "#As I was afraid, some of the values in the table aren't exactly consistent, in particular TU and mu. We will\n",
    "#   take mu as primary and calculate TU, which is slightly different from table (in 8th or 9th significant figure)\n",
    "m_per_km=1000\n",
    "km_per_m=1/m_per_km\n",
    "m_per_nmi=1852\n",
    "nmi_per_m=1/m_per_nmi\n",
    "m_per_ft=0.3048\n",
    "ft_per_m=1/m_per_ft\n",
    "ft_per_mi=5280\n",
    "mi_per_ft=1/ft_per_mi\n",
    "ft_per_km=ft_per_m*m_per_km\n",
    "km_per_ft=1/ft_per_km\n",
    "ft_per_nmi=ft_per_m*m_per_nmi\n",
    "nmi_per_ft=1/ft_per_nmi\n",
    "re_ft=2.092567257e7\n",
    "re_mi=re_ft/ft_per_mi\n",
    "re_nmi=re_ft/ft_per_nmi\n",
    "print(\"re_ft: %.9e ft\"%re_ft)\n",
    "print(\"re_mi: %.6f miles\"%re_mi)\n",
    "print(\"re_nmi: %.6f NM\"%re_nmi)"
   ]
  },
  {
   "cell_type": "code",
   "execution_count": null,
   "metadata": {},
   "outputs": [],
   "source": [
    "re_km=re_ft*m_per_ft/1000\n",
    "print(\"re_km: %.3f km\"%re_km)"
   ]
  },
  {
   "cell_type": "code",
   "execution_count": null,
   "metadata": {},
   "outputs": [],
   "source": [
    "mu_ft=1.407646882e16\n",
    "mu_km=mu_ft*km_per_ft**3\n",
    "print(\"mu_km: %.6e km**3/s**2\"%mu_km)"
   ]
  },
  {
   "cell_type": "code",
   "execution_count": null,
   "metadata": {},
   "outputs": [],
   "source": [
    "tu_s=np.sqrt(re_ft**3/mu_ft)\n",
    "tu_min=tu_s/60\n",
    "print(\"tu_min: %.8f\"%tu_min) #should be 13.44686457, off by 1 in 7th place after decimal so good to 9 places\n",
    "print(\"tu_s: %.7f\"%tu_s) #should be 806.8118744, off by 1 in 5th place after decimal so good to 8 places"
   ]
  },
  {
   "cell_type": "code",
   "execution_count": null,
   "metadata": {},
   "outputs": [],
   "source": [
    "omegae_rad_s=7.292115856e-5\n",
    "omegae_deg_min=np.degrees(omegae_rad_s)*60\n",
    "print(\"omegae_deg_min: %.10f\"%omegae_deg_min)#Should be .2506844773\n",
    "omegae_rad_tu=omegae_rad_s*tu_s\n",
    "print(\"omegae_rad_tu: %.10f\"%omegae_rad_tu)#Should be 0.0588336565"
   ]
  },
  {
   "cell_type": "code",
   "execution_count": null,
   "metadata": {},
   "outputs": [],
   "source": [
    "#We won't use a speed unit externally, instead always \n",
    "#using distance and time units. We are just checking\n",
    "#the table at this point\n",
    "su_ft=re_ft/tu_s\n",
    "print(\"su_ft: %.5f\"%su_ft)#Should be 25936.24764, good until 4th place after decimal, for 8 significant figures\n",
    "su_km=re_km/tu_s\n",
    "print(\"su_km: %.8f\"%su_km)#Should be 7.90536828, good until 7th place after decimal, for 7 significant figures"
   ]
  },
  {
   "cell_type": "markdown",
   "metadata": {},
   "source": [
    "| Heliocentric | Canonical Units | English Units | Metric Units |\n",
    "|----|----|----|----|\n",
    "|Mean Distance,<br />Earth to Sun|1 AU | 4.9081250$\\times$10<sup>11</sup> ft|1.4969965$\\times$10<sup>8</sup> km|\n",
    "|Time Unit |1 $\\mbox{TU}_{\\odot}$|58.132821 days | 5.0226757$\\times$10<sup>6</sup> sec|\n",
    "|Speed Unit |1 $\\frac{\\mbox{AU}}{\\mbox{TU}_\\odot}$|9.7719329$\\times$10<sup>4</sup> $\\frac{\\mbox{ft}}{\\mbox{sec}}$|29.784852 $\\frac{\\mbox{km}}{\\mbox{sec}}$|\n",
    "|Gravitational<br />Parameter, $\\mu_\\odot$|1$\\frac{\\mbox{AU}^3}{\\mbox{TU}_\\odot^2}$|4.6868016$\\times$10<sup>21</sup>$\\frac{\\mbox{ft}^3}{\\mbox{sec}^2}$|1.3271544$\\times$10<sup>11</sup> $\\frac{\\mbox{km}^3}{\\mbox{sec}^2}$|"
   ]
  },
  {
   "cell_type": "code",
   "execution_count": null,
   "metadata": {},
   "outputs": [],
   "source": [
    "au_ft=4.9081250e11\n",
    "au_km=au_ft*km_per_ft\n",
    "print(\"au_km: %.7e\"%au_km)"
   ]
  },
  {
   "cell_type": "code",
   "execution_count": null,
   "metadata": {},
   "outputs": [],
   "source": [
    "musun_ft=4.6868016e21\n",
    "musun_km=musun_ft*km_per_ft**3\n",
    "print(\"musun_km: %.7e\"%musun_km)"
   ]
  },
  {
   "cell_type": "code",
   "execution_count": null,
   "metadata": {},
   "outputs": [],
   "source": [
    "tusun_s=np.sqrt(au_ft**3/musun_ft)\n",
    "tusun_day=tusun_s/(60*60*24)\n",
    "print(\"tu_min: %.6f\"%tusun_day)\n",
    "print(\"tu_s: %.7e\"%tusun_s)"
   ]
  },
  {
   "cell_type": "code",
   "execution_count": null,
   "metadata": {},
   "outputs": [],
   "source": []
  }
 ],
 "metadata": {
  "kernelspec": {
   "display_name": "Python 3",
   "language": "python",
   "name": "python3"
  },
  "language_info": {
   "codemirror_mode": {
    "name": "ipython",
    "version": 3
   },
   "file_extension": ".py",
   "mimetype": "text/x-python",
   "name": "python",
   "nbconvert_exporter": "python",
   "pygments_lexer": "ipython3",
   "version": "3.7.5"
  }
 },
 "nbformat": 4,
 "nbformat_minor": 4
}
