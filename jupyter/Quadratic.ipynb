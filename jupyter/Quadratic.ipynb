{
 "cells": [
  {
   "cell_type": "markdown",
   "metadata": {},
   "source": [
    "# Introduction\n",
    "The quadratic formula is useful in proportion to how often the quadratic equation shows up. Trust me on this, the quadratic equation shows up a bunch.\n",
    "\n",
    "The quadratic equation is:\n",
    "\n",
    "$$ax^2+bx+c=0$$\n",
    "\n",
    "Solving this equation means finding the value of $x$ which makes it true, given the values of $a$, $b$, and $c$.\n"
   ]
  },
  {
   "cell_type": "markdown",
   "metadata": {},
   "source": [
    "# Completing the square\n",
    "We are going to do this geometrically, the way that the Babylonians probably did it 3000 years ago. First, let's get rid of the $a$ coefficient:\n",
    "\n",
    "$$\\begin{eqnarray*}\n",
    "ax^2+bx+c&=&0 \\\\\n",
    "\\frac{ax^2+bx+c}{a}&=&\\frac{0}{a} \\\\\n",
    "\\frac{a}{a}x^2+\\frac{b}{a}x+\\frac{c}{a}&=&0 \\\\\n",
    "b'&\\equiv&\\frac{b}{a} \\\\\n",
    "c'&\\equiv&\\frac{c}{a} \\\\\n",
    "x^2+b'x+c'&=&0 \\\\\n",
    "\\end{eqnarray*}$$"
   ]
  },
  {
   "cell_type": "markdown",
   "metadata": {},
   "source": [
    "Now move the constant term to the opposite side, and flop the sign since it's hard to think about negative area:\n",
    "\n",
    "$$\\begin{eqnarray*}\n",
    "x^2+b'x&=&-c' \\\\\n",
    "c''&\\equiv&-c'\\\\\n",
    "x^2+b'x&=&c''\n",
    "\\end{eqnarray*}$$"
   ]
  },
  {
   "cell_type": "markdown",
   "metadata": {},
   "source": [
    "Suppose we could add something $p$ to both sides so that we could get:\n",
    "    \n",
    "$$\\left(x+q\\right)^2=p+c''$$\n",
    "\n",
    "where $q$ is calculable from $p$. Neither $p$ nor $q$ can depend on $x$, because that is still unknown at this point. If we had this perfect square on the left side, we could continue like this:\n",
    "\n",
    "$$\\begin{eqnarray*}\n",
    "x+q&=&\\pm\\sqrt{p+c''} \\\\\n",
    "x&=&-q\\pm\\sqrt{p+c''}\n",
    "\\end{eqnarray*}$$\n",
    "\n",
    "We need the $\\pm$ sign because both the positive and negative square roots are valid solutions."
   ]
  },
  {
   "cell_type": "markdown",
   "metadata": {},
   "source": [
    "If we look at things geometrically, we have the following: A square piece of area $x^2$, plus a rectangular piece of area $b'x$ on the left side, and a piece of area $c''$ on the right side. We will keep negative numbers in mind, but we will pretend that all appropriate numbers are positive in order to apply our geometric intuition. This just means that we'll have to use algebra to prove that the negative cases work."
   ]
  },
  {
   "cell_type": "code",
   "execution_count": null,
   "metadata": {},
   "outputs": [],
   "source": [
    "%matplotlib notebook\n",
    "import matplotlib.pyplot as plt\n",
    "\n",
    "plt.figure(\"Completing the square 1\")\n",
    "plt.plot([0,0,1,1,0],[0,1,1,0,0],'b-')\n",
    "plt.text(0.1,0.1,'x^2')\n",
    "plt.axis('equal')\n",
    "plt.text(1.1,0.5,'+')\n",
    "plt.plot([1.2,1.2,1.6,1.6,1.2],[0,1,1,0,0],'r-')\n",
    "plt.text(1.3,0.1,\"b'x\")\n",
    "plt.text(1.7,0.5,\"=\")\n",
    "plt.plot([1.8,1.8,3.2,3.2,1.8],[0,1,1,0,0],'g-')\n",
    "plt.text(1.9,0.1,\"c''\")\n",
    "plt.show()"
   ]
  },
  {
   "cell_type": "markdown",
   "metadata": {},
   "source": [
    "What we will do is split the red box in half from top to bottom to obtain two narrower rectangles, glue one piece to the top edge and one to the right edge of the blue rectangle. This won't change the area at all, but will get us closer to having a square:\n"
   ]
  },
  {
   "cell_type": "code",
   "execution_count": null,
   "metadata": {},
   "outputs": [],
   "source": [
    "plt.figure(\"Completing the square 2\")\n",
    "plt.plot([0,0,1,1,0],[0,1,1,0,0],'b-')\n",
    "plt.text(0.1,0.1,'x^2')\n",
    "plt.axis('equal')\n",
    "plt.plot([1.0,1.0,1.2,1.2,1.0],[0,1,1,0,0],'r-')\n",
    "plt.text(1.1,0.1,\"(b'/2)x\")\n",
    "plt.plot([0,0,1,1,0],[1,1.2,1.2,1,1],'r-')\n",
    "plt.text(0.1,1.1,\"x(b'/2)\")\n",
    "plt.text(1.7,0.5,\"=\")\n",
    "plt.plot([1.8,1.8,3.2,3.2,1.8],[0,1,1,0,0],'g-')\n",
    "plt.text(1.9,0.1,\"c''\")\n",
    "plt.show()"
   ]
  },
  {
   "cell_type": "markdown",
   "metadata": {},
   "source": [
    "Now we can *complete* the square on the left side by adding that bit in the top right. In order to maintain an equation, we will have to add the same-sized bit on the right side. We don't need to know what $x$ is in order to calculate the size of that corner bit, since the rectangles adjacent to it have the same-length segment adjacent to it, $b'/2$. This makes the *area* of the square equal to what we have been calling $p$, and the *side length* equal to what we have been calling $q$."
   ]
  },
  {
   "cell_type": "code",
   "execution_count": null,
   "metadata": {},
   "outputs": [],
   "source": [
    "plt.figure(\"Completing the square 3\")\n",
    "plt.plot([0,0,1,1,0],[0,1,1,0,0],'b-')\n",
    "plt.text(0.1,0.1,'x^2')\n",
    "plt.axis('equal')\n",
    "plt.plot([1.0,1.0,1.2,1.2,1.0],[0,1,1,0,0],'r-')\n",
    "plt.text(1.1,0.1,\"(b'/2)x\")\n",
    "plt.plot([0,0,1,1,0],[1,1.2,1.2,1,1],'r-')\n",
    "plt.text(0.1,1.1,\"x(b'/2)\")\n",
    "plt.plot([1.0,1.0,1.2,1.2,1.0],[1.0,1.2,1.2,1.0,1.0],'m-')\n",
    "plt.text(1.1,1.1,\"(b'/2)^2\")\n",
    "plt.text(1.7,0.5,\"=\")\n",
    "plt.plot([1.8,1.8,3.2,3.2,1.8],[0,1,1,0,0],'g-')\n",
    "plt.text(1.9,0.1,\"c''\")\n",
    "plt.text(3.3,0.1,\"+\")\n",
    "plt.plot([3.4,3.4,3.6,3.6,3.4],[0,0.2,0.2,0,0],'m-')\n",
    "plt.text(3.5,0.1,\"(b'/2)^2\")\n",
    "plt.show()"
   ]
  },
  {
   "cell_type": "markdown",
   "metadata": {},
   "source": [
    "Now this is the hand-waviest part of the proof, the one that appeals to geometric intuition the most. We'll clean this up later by showing that the quadratic formula so-derived does in fact solve the quadratic equation.\n",
    "\n",
    "We talked about *adding* a piece $p$ to both sides to complete the square, and the size of that piece is:\n",
    "\n",
    "$$\\begin{eqnarray*}\n",
    "p&=&\\left(\\frac{b'}{2}\\right)^2\\\\\n",
    " &=&\\frac{b'^2}{4}\\\\\n",
    "\\end{eqnarray*}$$\n",
    "\n",
    "By looking at the geometry, we see that the corresponding $q$ is:\n",
    "\n",
    "$$q=\\frac{b'}{2}$$"
   ]
  },
  {
   "cell_type": "markdown",
   "metadata": {},
   "source": [
    "So we assert:\n",
    "\n",
    "$$\\begin{eqnarray*}\n",
    "x^2+b'x+p&=&(x+q)^2\\\\\n",
    "x^2+b'x+\\frac{b'^2}{4}&=&\\left(x+\\frac{b'}{2}\\right)^2\n",
    "\\end{eqnarray*}$$\n",
    "\n",
    "After adding this square completion to *both* sides, and using the perfect square result above, we end up with:\n",
    "\n",
    "$$\\begin{eqnarray*}\n",
    "x^2+b'x+p&=&(x+q)^2\\\\\n",
    "  &=&p+c'' \\\\\n",
    "  \\left(x+\\frac{b'}{2}\\right)^2&=&\\frac{b'^2}{4}+c''\n",
    "\\end{eqnarray*}$$\n",
    "\n",
    "Now we can take the square root of both sides, being careful that there are actually two square roots for any real number, one positive and one negative (opposite to the positive square root):\n",
    "\n",
    "$$x+\\frac{b'}{2}=\\pm\\sqrt{\\frac{b'^2}{4}+c''}$$\n",
    "\n",
    "Finally we finish isolating the $x$ on the left side:\n",
    "\n",
    "$$x=-\\frac{b'}{2}\\pm\\sqrt{\\frac{b'^2}{4}+c''}$$"
   ]
  },
  {
   "cell_type": "markdown",
   "metadata": {},
   "source": [
    "Now let's see about getting it into the customary form: First, get back to all single primes:\n",
    "\n",
    "$$x=-\\frac{b'}{2}\\pm\\sqrt{\\frac{b'^2}{4}-c'}$$\n",
    "\n",
    "And get rid of *all* of the primes:\n",
    "\n",
    "$$\\begin{eqnarray*}\n",
    "b'&=&\\frac{b}{a} \\\\\n",
    "c'&=&\\frac{c}{a} \\\\\n",
    "x&=&-\\frac{b'}{2}\\pm\\sqrt{\\frac{b'^2}{4}-c'} \\\\\n",
    " &=&-\\frac{b}{2a}\\pm\\sqrt{\\frac{b^2}{4a^2}-\\frac{c}{a}} \\\\\n",
    " &=&-\\frac{b}{2a}\\pm\\sqrt{\\frac{b^2}{4a^2}-\\frac{c}{a}\\frac{4a}{4a}} \\\\\n",
    " &=&-\\frac{b}{2a}\\pm\\sqrt{\\frac{b^2}{4a^2}-\\frac{4ac}{4a^2}} \\\\\n",
    " &=&-\\frac{b}{2a}\\pm\\sqrt{\\frac{b^2-4ac}{4a^2}} \\\\\n",
    " &=&-\\frac{b}{2a}\\pm\\frac{\\sqrt{b^2-4ac}}{\\sqrt{4a^2}} \\\\\n",
    " &=&-\\frac{b}{2a}\\pm\\frac{\\sqrt{b^2-4ac}}{2a} \\\\\n",
    " &=&\\frac{-b\\pm\\sqrt{b^2-4ac}}{2a} \\\\\n",
    "\\end{eqnarray*}$$"
   ]
  },
  {
   "cell_type": "markdown",
   "metadata": {},
   "source": [
    "And there's our customary form. Now we have a geometric argument, but not a proof, that this works. For the proof, we have to substitute this back into the original quadratic equation and show that it all cancels out. We'll carry the plus-minus sign for a while, but do the positive sign first if we need to make a choice.\n",
    "\n",
    "$$\\begin{eqnarray*}\n",
    "ax^2+bx+c&=&0 \\\\\n",
    "a\\left(\\frac{-b\\pm\\sqrt{b^2-4ac}}{2a}\\right)^2+b\\left(\\frac{-b\\pm\\sqrt{b^2-4ac}}{2a}\\right)+c&=&0\\\\\n",
    "a\\left(\\frac{-b\\pm\\sqrt{b^2-4ac}}{2a}\\right)^2-\\frac{b^2\\pm\\sqrt{b^2-4ac}}{2a}+c&=&0\\\\\n",
    "a\\left(\\frac{-b}{2a}\\pm\\frac{\\sqrt{b^2-4ac}}{2a}\\right)^2-\\frac{b^2\\pm\\sqrt{b^2-4ac}}{2a}+c&=&0\\\\\n",
    "p&\\equiv&\\frac{-b}{2a} \\\\\n",
    "q&\\equiv&\\frac{\\sqrt{b^2-4ac}}{2a}\\\\\n",
    "\\left(\\frac{-b}{2a}\\pm\\frac{\\sqrt{b^2-4ac}}{2a}\\right)^2&=&\\left(p\\pm q\\right)^2\\\\\n",
    "&=&(p\\pm q)(p\\pm q)\\\\\n",
    " &=&p^2\\pm pq\\pm pq+q^2\\\\\n",
    " &=&p^2\\pm 2pq+q^2\\\\\n",
    " &=&p^2+q^2\\pm 2pq\\\\\n",
    " &=&\\left(\\frac{-b}{2a}\\right)^2+\\left(\\frac{\\sqrt{b^2-4ac}}{2a}\\right)^2\\pm 2\\left(\\frac{-b}{2a}\\right)\\left(\\frac{\\sqrt{b^2-4ac}}{2a}\\right)\\\\\n",
    " &=&\\frac{b^2}{4a^2}+\\frac{b^2-4ac}{4a^2}\\pm 2\\left(\\frac{-b\\sqrt{b^2-4ac}}{4a^2}\\right)\\\\\n",
    " &=&\\frac{b^2}{4a^2}+\\frac{b^2-4ac}{4a^2}\\pm \\frac{-2b\\sqrt{b^2-4ac}}{4a^2}\\\\\n",
    " &=&\\frac{b^2+b^2-4ac\\mp 2b\\sqrt{b^2-4ac}}{4a^2}\\\\\n",
    " &=&\\frac{2b^2-4ac\\mp 2b\\sqrt{b^2-4ac}}{4a^2}\\\\\n",
    " &=&2\\frac{b^2-2ac\\mp b\\sqrt{b^2-4ac}}{4a^2}\\\\\n",
    " &=&\\frac{b^2-2ac\\mp b\\sqrt{b^2-4ac}}{2a^2}\\\\\n",
    "\\end{eqnarray*}$$"
   ]
  },
  {
   "cell_type": "code",
   "execution_count": null,
   "metadata": {},
   "outputs": [],
   "source": []
  }
 ],
 "metadata": {
  "kernelspec": {
   "display_name": "Python 3",
   "language": "python",
   "name": "python3"
  },
  "language_info": {
   "codemirror_mode": {
    "name": "ipython",
    "version": 3
   },
   "file_extension": ".py",
   "mimetype": "text/x-python",
   "name": "python",
   "nbconvert_exporter": "python",
   "pygments_lexer": "ipython3",
   "version": "3.7.5"
  }
 },
 "nbformat": 4,
 "nbformat_minor": 4
}
