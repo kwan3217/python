{
 "cells": [
  {
   "cell_type": "markdown",
   "metadata": {},
   "source": [
    "Blah blah blah. The true mathematicians out there treat this one as almost holy. They will go on and on about the five most important constants, the amazing, almost miraculous nature, etc, blah, blah, blah. However, this is just one facet of the gem. if we dig a bit deeper, we find the whole gem underneath.\n",
    "\n",
    "> $$e^{i\\pi}+1=0$$\n",
    "\n",
    "In this form, it may be elegant, it may be beautiful, but it is almost useless."
   ]
  },
  {
   "cell_type": "markdown",
   "metadata": {},
   "source": [
    "## Complex Numbers\n",
    "To start off with, we have complex numbers. Aggressively ignoring [history](https://omoikane.kwansystems.org/wiki/index.php/History), we present the concept in basically its modern form. The product of any two negative numbers is positive, so no real number is the square root of a negative number. So, we invent the concept of imaginary numbers. The imaginary unit $i$ is created out of thin air, and to begin with, it's most important property is $i^2=-1$ or taking the square root of both sides, $i=\\sqrt{-1}$. Any time you have a negative number $-a$ under a square root you can always factor it $\\sqrt{-a}=\\sqrt{(-1)a}=\\sqrt{-1}\\sqrt{a}=i\\sqrt{a}$.\n",
    "\n",
    "It's amazing how far we can run with this simple definition.\n",
    "\n",
    "First, real numbers and imaginary numbers can be added to produce complex numbers, but you can't simplify the addition. If you add the real number $3$ to the imaginary number $4i$, the best you can do is $3+4i$. You can treat $i$ as an unknown variable and do math with it, and thereby obtain the addition and multiplication rules. The interesting one is multiplication as we will see here:\n",
    "\n",
    "$$\\begin{eqnarray*}(a+bi)(c+di)&=&ac+adi+bic+bdi^2 \\\\\n",
    "                              &=&ac-bd+i(ad+bc)\\end{eqnarray*}$$\n",
    "\n",
    "We used the property $i^2=-1$ to simplify $bdi^2$ to $-bd$."
   ]
  },
  {
   "cell_type": "markdown",
   "metadata": {},
   "source": [
    "## Polar notation for complex numbers\n",
    "We learned that any complex number can be geometrically interpreted as a point in the complex plane, with its $x$ coordinate given by the coefficient of the real part, and the $y$ coordinate as the coefficient of the imaginary part. We also learned that it is often useful to express these points in polar form, especially when we are multiplying two complex numbers. It's pretty common to see a complex number expressed as $(r\\angle \\theta)$, especially when this polar form is first introduced. This way we don't have to explain how to transform from rectangular to polar. But how do we? If we have a number in this form, how do we get the rectangular form? Trigonometry, of course.\n",
    "\n",
    "We treat the complex plane as just a regular old 2D plane, with a real axis and an imaginary axis. Using the definitions of sine and cosine, we can say that if we have a number $(r\\angle \\theta)$ and want to convert it to rectangular form $x+iy$, we can just say that $x=r \\cos \\theta$ and $y=r \\sin \\theta$.\n",
    "\n",
    "[[Image:Polar to Rectangular.svg]]"
   ]
  },
  {
   "cell_type": "code",
   "execution_count": null,
   "metadata": {},
   "outputs": [],
   "source": []
  },
  {
   "cell_type": "markdown",
   "metadata": {},
   "source": [
    "Real numbers are visualized as points on the number line. Complex numbers are visualized as points on the complex plane, where the x coordinate is the coefficient of the real part, and the y coordinate is the coefficient of the imaginary part.\n",
    "\n",
    "Now the fun begins. If you have a point on a plane, you can express it in rectangular coordinates like we have above, or in polar coordinates, where instead of real and imaginary parts, you have the magnitude, the distance from the origin, and the argument, the angle from the +x axis to the segment from the origin to the point.\n",
    "\n",
    "So, if you have a complex number $a+bi$, you can figure out the magnitude from the Pythagorean theorem:\n",
    "\n",
    "$$r=\\sqrt{a^2+b^2}$$\n",
    "\n",
    "and the argument from trigonometry:\n",
    "\n",
    "$$\\theta=\\tan^{-1}\\frac{b}{a}$$\n",
    "\n",
    "If we are calculating this on a computer, we use <code>theta=atan2(b,a)</code> to make sure that the quadrant is right.\n",
    "\n",
    "So, any complex number $a+bi$ can be expressed in polar form as $r\\angle\\theta$. The reverse is also true, and can be expressed in one formula:\n",
    "\n",
    "$$\\begin{eqnarray}r\\angle\\theta&=&r\\cos\\theta+ri\\sin\\theta\\\\\n",
    "&=&r(cos\\theta+i\\sin\\theta)\\end{eqnarray}$$\n",
    "\n",
    "When this is first presented in algebra textbooks, the part in parentheses is often called the $\\operatorname{cis}$ function (cosine i sine), so we have $r\\angle\\theta=r\\operatorname{cis}(\\theta )$. However, you never see this in advanced or professional works. We'll see why presently.\n",
    "\n",
    "Here comes the gem - Look at the [[Taylor series]] expansion of cosine and sine:\n",
    "\n",
    "$$\\sin \\theta=\\theta-\\frac{\\theta^3}{3!}+\\frac{\\theta^5}{5!}-\\frac{\\theta^7}{7!}...=\\sum_{n=0}^\\infty\\frac{-1^{n}\\theta^{(2n+1)}}{(2n+1)!}$$\n",
    "$$\\cos \\theta=1-\\frac{\\theta^2}{2}+\\frac{\\theta^4}{4!}-\\frac{\\theta^6}{6!}...=\\sum_{n=0}^\\infty\\frac{-1^{n}\\theta^{(2n)}}{(2n)!}$$\n",
    "\n",
    "The general terms are correct but not particularly important, just look at the first few specific terms. Now the number we get when we add cosine and the imaginary unit times sine is as follows:\n",
    "\n",
    "$$\\cos \\theta+i\\sin \\theta=1+i\\theta-\\frac{\\theta^2}{2!}-i\\frac{\\theta^3}{3!}+\\frac{\\theta^4}{4!}+i\\frac{\\theta^5}{5!}+\\frac{\\theta^6}{6!}-i\\frac{\\theta^7}{7!}...$$\n",
    "\n",
    "Now just for fun and because I know this will work, let's look at the Taylor series for the natural exponential function. The odd thing is that we will use an imaginary argument $x=i\\theta$\n",
    "\n",
    "$$e^x=1+x+\\frac{x^2}{2!} +\\frac{x^3}{3!}+\\frac{x^4}{4!}+\\frac{x^5}{5!}+\\frac{x^6}{6!}+\\frac{x^7}{7!}...=\\sum_{i=0}^\\infty\\frac{x^n}{n!}$$\n",
    "\n",
    "The Taylor series expansion was derived in real number space, so there is no guarantee that it will work with complex numbers, but let's ''define'' the imaginary exponent to be whatever the formula gives, presuming without proof that this infinite series converges on any number at all. We accept as an extension of the definition of exponentiation the following formula:\n",
    "\n",
    "$$\\begin{eqnarray*}\n",
    "e^{i\\theta}&=&1&+&i\\theta&+&\\frac{(i\\theta)^2}{2!}&+&\\frac{(i\\theta)^3}{3!}&+&\\frac{(i\\theta)^4}{4!}&+&\\frac{(i\\theta)^5}{5!}&+&\\frac{(i\\theta)^6}{6!}&+&\\frac{(i\\theta)^7}{7!}&...\\\\ &=&1&+&i\\theta&+&\\frac{i^2\\theta^2}{2!}&+&\\frac{i^3\\theta^3}{3!}&+&\\frac{i^4\\theta^4}{4!}&+&\\frac{i^5\\theta^5}{5!}&+&\\frac{i^6\\theta^6}{6!}&+&\\frac{i^7\\theta^7}{7!}&...\\\\\n",
    "\\end{eqnarray*}$$\n",
    "\n",
    "We can clean this up a bit by noting that $i^3=ii^2=i(-1)=-i$, $i^4=(i^2)^2=(-1)^2=1$, and so on in a pattern repeating every increment of 4 in the exponent.\n",
    "\n",
    "$$\\begin{eqnarray*}\n",
    "e^{i\\theta} &=&1&+&i\\theta&+&\\frac{(-1)\\theta^2}{2!}&+&\\frac{(-i)\\theta^3}{3!}&+&\\frac{(1)\\theta^4}{4!}&+&\\frac{(i)\\theta^5}{5!}&+&\\frac{(-1)\\theta^6}{6!}&+&\\frac{(-i)\\theta^7}{7!}&...\\\\\n",
    "&=&1&+&i\\theta&-&\\frac{\\theta^2}{2!}&-&i\\frac{\\theta^3}{3!}&+&\\frac{\\theta^4}{4!}&+&i\\frac{\\theta^5}{5!}&-&\\frac{\\theta^6}{6!}&-&i\\frac{\\theta^7}{7!}&...\\\\\n",
    "\\end{eqnarray*}$$\n",
    "\n",
    "Or in other words, exactly the same as $cos\\theta+i\\sin\\theta$ above. The $\\operatorname{cis}(\\theta)$ function is exactly the exponential function with imaginary argument $e^{i\\theta}$. That's the gem. That's the miracle -- the Taylor series of the trig sum and the exponential match. Once we have $\\cos\\theta+i\\sin\\theta=\\operatorname{cis}(\\theta)=e^{i\\theta}$, it is easy to plug in the circle constant $\\pi$ and get\n",
    "\n",
    "$$\\begin{eqnarray*}\n",
    "e^{i\\pi}&=&\\cos\\pi+i\\sin\\pi\\\\\n",
    "&=&-1+i(0)\\\\\n",
    "&=&-1\\\\\n",
    "e^{i\\pi}+1&=&0\n",
    "\\end{eqnarray*}$$"
   ]
  },
  {
   "cell_type": "markdown",
   "metadata": {},
   "source": [
    "## Another way to think about it \n",
    "Another completely independent way to discover this identity is with differential equations. First the exponential function is defined on positive whole numbers using repeated multiplication, negative numbers with inverse, rational numbers as powers of roots, and then the continuous exponential function at any irrational number is *defined* as the limiting value of the output for a sequence of rational numbers that converges on the desired irrational input. Usually it is proven that the exponential function (defined as the continuous function through all the rational exponents) is its own derivative:\n",
    "\n",
    "$$\\frac{d}{dx}e^x=e^x$$\n",
    "\n",
    "However, we can go the other way around. *Is* there a function that is its own derivative? If so, what are its properties and how can we calculate it? We treat the equation above as a differential equation -- when written in this language, we say $y=f(x), y'=f'(x)=\\frac{df(x)}{dx}$ and write:\n",
    "\n",
    "$$y'=y$$\n",
    "\n",
    "Without trying to prove it, it is obvious by using the vector field notion of a differential equation that there must be *some* function which is its own derivative. Even if we didn't know anything about its other properties, any numerical integrator could find it.\n"
   ]
  },
  {
   "cell_type": "code",
   "execution_count": null,
   "metadata": {},
   "outputs": [],
   "source": [
    "%matplotlib notebook\n",
    "import matplotlib.pyplot as plt"
   ]
  },
  {
   "cell_type": "code",
   "execution_count": null,
   "metadata": {},
   "outputs": [],
   "source": [
    "import numpy as np\n",
    "plt.figure(\"Self-derivative vector field\")\n",
    "for y in np.arange(0,5,0.2):\n",
    "    for x in np.arange(-3.5,3.5,0.2):\n",
    "        theta=np.arctan2(y,1)\n",
    "        r=0.04\n",
    "        c=np.cos(theta)\n",
    "        s=np.sin(theta)\n",
    "        plt.plot([x-r*c,x+r*c],[y-r*s,y+r*s],'b-')\n",
    "plt.plot(np.arange(-3.5,3.5,0.1),np.exp(np.arange(-3.5,3.5,0.1)))\n",
    "plt.axis('equal')\n",
    "plt.ylim(0,5)\n",
    "plt.show()"
   ]
  },
  {
   "cell_type": "markdown",
   "metadata": {},
   "source": [
    "You can do the same thing with a complex function in the complex plane. Keep in mind that the above plot is a 2D plot of a 1D function, with the independent variable on the X axis. Below when we do a plot on the complex plane, the independent variable is not represented."
   ]
  }
 ],
 "metadata": {
  "kernelspec": {
   "display_name": "Python 3",
   "language": "python",
   "name": "python3"
  },
  "language_info": {
   "codemirror_mode": {
    "name": "ipython",
    "version": 3
   },
   "file_extension": ".py",
   "mimetype": "text/x-python",
   "name": "python",
   "nbconvert_exporter": "python",
   "pygments_lexer": "ipython3",
   "version": "3.7.5"
  }
 },
 "nbformat": 4,
 "nbformat_minor": 4
}
