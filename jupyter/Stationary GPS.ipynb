{
 "cells": [
  {
   "cell_type": "markdown",
   "metadata": {},
   "source": [
    "In the course of building my Teensy-based rollercoasterometer, I hooked two GPS receivers up to it:\n",
    "\n",
    "* A uBlox NEO-M8U\n",
    "* An Adafriut FeatherWing Ultimate GPS\n",
    "\n",
    "Over the night of 26/27 Jun 2020, these both were recorded for about 10 hours while I went to bed.\n",
    "\n",
    "What can we make of the statistics of these recordings?"
   ]
  },
  {
   "cell_type": "markdown",
   "metadata": {},
   "source": [
    "First, we need to read the NMEA and extract the coordinates. This is in the GxRMC sentences in the record. However, the first thing to note is that some of the sentences were corrupted in transit. Also, there was at least one bad point in the NEO-M8U record. So, we will check the checksum, then reject all "
   ]
  },
  {
   "cell_type": "code",
   "execution_count": null,
   "metadata": {},
   "outputs": [],
   "source": [
    "import numpy as np\n",
    "\n",
    "def calc_checksum(sentence):\n",
    "    checksum=0\n",
    "    \n",
    "    for i in range(1,len(sentence)-2):\n",
    "        if sentence[i]==\"*\":\n",
    "            break\n",
    "        checksum^=ord(sentence[i])\n",
    "    return \"%02x\"%checksum\n",
    "        \n",
    "def is_valid(sentence):\n",
    "    try:\n",
    "        starpos=sentence.index(\"*\")\n",
    "    except:\n",
    "        return False #No checksum marker\n",
    "    calc=calc_checksum(sentence)\n",
    "    store=sentence[starpos+1:starpos+3]\n",
    "    return calc==store"
   ]
  },
  {
   "cell_type": "markdown",
   "metadata": {},
   "source": [
    "Now we need to be able to convert a value in the NMEA encoded DDDMM.MMMMMMM to decimal degrees"
   ]
  },
  {
   "cell_type": "code",
   "execution_count": null,
   "metadata": {},
   "outputs": [],
   "source": [
    "def dddmm_to_deg(dddmm):\n",
    "    ddd=np.floor(dddmm/100)\n",
    "    mm=dddmm-(ddd*100)\n",
    "    return ddd+mm/60"
   ]
  },
  {
   "cell_type": "markdown",
   "metadata": {},
   "source": [
    "Finally, read a file:"
   ]
  },
  {
   "cell_type": "code",
   "execution_count": null,
   "metadata": {},
   "outputs": [],
   "source": [
    "def read_gprmc(infn):\n",
    "    with open(infn) as inf:\n",
    "        lat=[]\n",
    "        lon=[]\n",
    "        alt=[]\n",
    "        for line in inf:\n",
    "            if is_valid(line):\n",
    "                if line[1]==\"G\" and line[3:6]==\"GGA\":\n",
    "                    try:\n",
    "                        parts=line.split(\",\")\n",
    "                        #for i,part in enumerate(parts):\n",
    "                        #    print(i,part)\n",
    "                        this_lat=dddmm_to_deg(float(parts[2]))\n",
    "                        this_lon=-dddmm_to_deg(float(parts[4]))\n",
    "                        this_alt=float(parts[9])\n",
    "                    except:\n",
    "                        continue\n",
    "                    if this_lat>40 and this_lon<-105:\n",
    "                        lat.append(this_lat)\n",
    "                        lon.append(this_lon)\n",
    "                        alt.append(this_alt)\n",
    "    return (lat,lon,alt)\n"
   ]
  },
  {
   "cell_type": "code",
   "execution_count": null,
   "metadata": {},
   "outputs": [],
   "source": [
    "(lat,lon,alt)=read_gprmc(\"/mnt/big/home/chrisj/workspace/Data/teensy/LOG00103/NMEA.nmea\")"
   ]
  },
  {
   "cell_type": "code",
   "execution_count": null,
   "metadata": {},
   "outputs": [],
   "source": [
    "print(len(lat),len(lon),len(alt))"
   ]
  },
  {
   "cell_type": "code",
   "execution_count": null,
   "metadata": {},
   "outputs": [],
   "source": [
    "import matplotlib.pyplot as plt\n",
    "%notebook matplotlib\n",
    "plt.plot(lon,lat,'.')"
   ]
  },
  {
   "cell_type": "code",
   "execution_count": null,
   "metadata": {},
   "outputs": [],
   "source": []
  }
 ],
 "metadata": {
  "kernelspec": {
   "display_name": "Python 3",
   "language": "python",
   "name": "python3"
  },
  "language_info": {
   "codemirror_mode": {
    "name": "ipython",
    "version": 3
   },
   "file_extension": ".py",
   "mimetype": "text/x-python",
   "name": "python",
   "nbconvert_exporter": "python",
   "pygments_lexer": "ipython3",
   "version": "3.8.2"
  }
 },
 "nbformat": 4,
 "nbformat_minor": 4
}
