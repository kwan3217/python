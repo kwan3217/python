{
 "cells": [
  {
   "cell_type": "code",
   "execution_count": null,
   "metadata": {},
   "outputs": [],
   "source": [
    "%matplotlib notebook\n",
    "import matplotlib.pyplot as plt\n",
    "import numpy as np"
   ]
  },
  {
   "cell_type": "markdown",
   "metadata": {},
   "source": [
    "3blue1brown issued a challenge to all of us to understand why the collision of objects results in calculating $\\pi$ (pi). The guy at Coding Train did it as one of his challenges, but while I was watching it, I was amazed by how accurate he was able to get it, considering that he used Euler integration. Finally it occurred to me that he wasn't tracking accurately at *all* where the objects were, at least not accurately enough to matter. \n",
    "\n",
    "His collision detection just checked whether the objects overlapped. So, in one step, the two blocks overlap, but they must overlap by less than the relative motion of the blocks over one step, because if it were more, they would have overlapped in the previous step. The collision and reflection is then guaranteed to get them to not overlap in the next step, because the blocks relative motion is reversed.\n",
    "\n",
    "The more I thought about it, the more it became obvious that:\n",
    "\n",
    "* *We don't have to track position at all* - because the small block is trapped. It is either moving towards the wall and will hit the wall (the big block will never move faster towards the wall than the small block), it is moving away from the wall faster than the big block, in which case it will hit it, or moving away from the wall slower than the big block, in which case it will never hit and we can stop counting.\n",
    "* *We don't have to track time at all* - It is always obvious from the cases above what will happen next, and the physics are invariant over time and space so it doesn't matter when and where it happens.\n",
    "\n",
    "So, we track the velocities of the two blocks, and every time through the loop, one of three things happens:\n",
    "\n",
    "1. Small block moving towards the wall - reflect off the wall\n",
    "2. Small block moving away from wall, faster than big block - reflect off the block\n",
    "3. Small block moving away from wall, slower than big block - stop counting\n",
    "\n"
   ]
  },
  {
   "cell_type": "markdown",
   "metadata": {},
   "source": [
    "As far as interactions, we will steal straight from [Wikipedia](https://en.wikipedia.org/wiki/Elastic_collision#One-dimensional_Newtonian), just like Coding Train did. I will quote them, just changing the block names so I can be more consistent with the variable names.\n",
    "\n",
    "> Consider particles $A$ and $B$ with masses $m_A$, $m_B$, and velocities $v_{A0}$, $v_{B0}$ before collision,  $v_{A1}$, $v_{B1}$ after collision.<br /><br />\n",
    ">The conservation of the total [momentum](https://en.wikipedia.org/wiki/Momentum) before and after the collision is expressed by:<br />\n",
    "$$m_{A}v_{A0}+m_{B}v_{B0}=m_{A}v_{A1} + m_{B}v_{B1}.$$\n",
    ">Likewise, the conservation of the total [kinetic energy](https://en.wikipedia.org/wiki/Kinetic_energy) is expressed by: $$\\tfrac12 m_Av_{A0}^2+\\tfrac12 m_Bv_{B0}^2=\\tfrac12 m_Av_{A1}^2 +\\tfrac12 m_{B}v_{B1}^2.$$\n",
    ">These equations may be solved directly to find <math>v_1,v_2</math> when <math>u_1,u_2</math> are known: $$\\begin{eqnarray*}\n",
    "v_{A1} &=& \\frac{m_A-m_B}{m_A+m_B}v_{A0} + \\frac{2m_B}{m_A+m_B} v_{B0} \\\\\n",
    "v_{B1} &=& \\frac{2m_A}{m_A+m_B} v_{A0} + \\frac{m_B-m_A}{m_A+m_B} v_{B0}\n",
    "\\end{eqnarray*}$$"
   ]
  },
  {
   "cell_type": "code",
   "execution_count": null,
   "metadata": {},
   "outputs": [],
   "source": [
    "def collide(m_A,m_B,v_A0,v_B0):\n",
    "    v_A1=(m_A-m_B)/(m_A+m_B)*v_A0+(  2*m_B)/(m_A+m_B)*v_B0\n",
    "    v_B1=(  2*m_A)/(m_A+m_B)*v_A0+(m_B-m_A)/(m_A+m_B)*v_B0\n",
    "    return (v_A1,v_B1)"
   ]
  },
  {
   "cell_type": "markdown",
   "metadata": {},
   "source": [
    ">If both masses are the same, we have a trivial solution:$$\\begin{eqnarray*}\n",
    "v_{A1}&=&u_{B0}\\\\\n",
    "v_{B1}&=&v_{A0}\\end{eqnarray*}.$$\n",
    ">This simply corresponds to the bodies exchanging their initial velocities to each other.<br /><br />\n",
    ">As can be expected, the solution is invariant under adding a constant to all velocities, which is like using a frame of reference with constant translational velocity. Indeed, to derive the equations, one may first change the frame of reference so that one of the known velocities is zero, determine the unknown velocities in the new frame of reference, and convert back to the original frame of reference.<br /><br />\n",
    "> **Examples**\n",
    "> * Ball A: mass = 3 kg,       velocity =  4 m/s\n",
    "> * Ball B: mass = 5 kg,       velocity = -6 m/s"
   ]
  },
  {
   "cell_type": "code",
   "execution_count": null,
   "metadata": {},
   "outputs": [],
   "source": [
    "(v_A1,v_B1)=collide(m_A=3,m_B=5,v_A0=4,v_B0=-6)"
   ]
  },
  {
   "cell_type": "markdown",
   "metadata": {},
   "source": [
    "> After collision:\n",
    "> * Ball A: velocity = -8.5 m/s\n",
    "> * Ball B: velocity =  1.5 m/s"
   ]
  },
  {
   "cell_type": "code",
   "execution_count": null,
   "metadata": {},
   "outputs": [],
   "source": [
    "print(\"v_A1: %.1f    v_B1: %.1f\"%(v_A1,v_B1))"
   ]
  },
  {
   "cell_type": "markdown",
   "metadata": {},
   "source": [
    "One way to consider the collision with the wall is just to consider the wall to be immovable and just reverse the velocity of the small block upon collision. I instead am going to pursue the idea of using the exact same collision formula, but consider the wall to have infinite mass.\n",
    "\n",
    "Note that the formula has an indeterminacy ($-\\infty/\\infty$) if we treat one mass as inifinite. What we will say instead is that the mass of the wall is so great that $m_A/m_B\\approx 0$. Solving this for $m_A$ we get $m_A\\approx 0m_B\\approx 0$.\n",
    "\n",
    "$$\\require{cancel}\n",
    "\\begin{eqnarray*}\n",
    "v_{A1} &=& \\frac{\\cancelto{0}{m_A}-m_B}{\\cancelto{0}{m_A}+m_B}v_{A0} + \\frac{2m_B}{\\cancelto{0}{m_A}+m_B} v_{B0} \\\\\n",
    "  &=& \\frac{-m_B}{m_B}v_{A0} + \\frac{2m_B}{m_B} v_{B0} \\\\\n",
    "  &=& -v_{A0} + 2 v_{B0} \\\\\n",
    "v_{B1} &=& \\frac{2\\cancelto{0}{m_A}}{\\cancelto{0}{m_A}+m_B} v_{A0} + \\frac{m_B-\\cancelto{0}{m_A}}{\\cancelto{0}{m_A}+m_B} v_{B0}\\\\\n",
    "       &=& \\frac{0}{m_B} v_{A0} + \\frac{m_B}{m_B} v_{B0}\\\\\n",
    "       &=& v_{B0}\n",
    "\\end{eqnarray*}$$"
   ]
  },
  {
   "cell_type": "markdown",
   "metadata": {},
   "source": [
    "Since the wall is immovable, it isn't moving, so $v_{B0}=0$. Plugging this in above shows that yes, the velocity of the block does reverse, and the velocity of the wall stays zero."
   ]
  },
  {
   "cell_type": "code",
   "execution_count": null,
   "metadata": {},
   "outputs": [],
   "source": [
    "print(\"v_A1: %.1f    v_B1: %.1f\"%collide(m_A=0,m_B=1,v_A0=-1,v_B0=0))"
   ]
  },
  {
   "cell_type": "markdown",
   "metadata": {},
   "source": [
    "Now we reach the loop. Since we don't know ahead of time how many times we will loop (shut up, $\\pi$), we will use a `while not done:` loop. Inside the loop, we will consider a tree of cases:\n",
    "\n",
    "* If the small block is moving towards the wall\n",
    "  - If the big block is moving towards the wall faster than the small block:\n",
    "    - Throw an exception. We would have to check whether the small block collides with the wall first or the big block overtakes and collides with the small block first. If this ever happens, it throws away our critical assumption that we don't have to track the block positions.\n",
    "  - Else\n",
    "    - Collide the small block with the wall\n",
    "* Else the small block is moving away from the wall (or stopped)\n",
    "  - If the big block is moving away from the wall faster than the small one:\n",
    "    - We are done - the blocks will never collide again with anything\n",
    "  - Else\n",
    "    - Collide the blocks"
   ]
  },
  {
   "cell_type": "code",
   "execution_count": null,
   "metadata": {},
   "outputs": [],
   "source": [
    "done=False\n",
    "digits=8\n",
    "m_A=1\n",
    "m_B=m_A*100**(digits-1)\n",
    "v_A=0\n",
    "v_B=-1\n",
    "i=0\n",
    "print(\"m_A: %f    m_B: %f\"%(m_A,m_B))\n",
    "#print((\"%\"+str(digits)+\"d   v_A: %f    v_B: %f\")%(i,v_A,v_B))\n",
    "while not done:\n",
    "    if v_A<0:\n",
    "        #if v_B<v_A:\n",
    "        #    raise ValueError(\"This really does happen, I guess\")\n",
    "        #else:\n",
    "            #(v_A,_)=collide(0,1,v_A,0) #Collide with wall\n",
    "        v_A=-v_A\n",
    "    else:\n",
    "        if v_B>v_A:\n",
    "            done=True\n",
    "            print(\"Done\")\n",
    "        else:\n",
    "            (v_A,v_B)=collide(m_A,m_B,v_A,v_B)\n",
    "    if not done:\n",
    "        i+=1\n",
    "        #print((\"%\"+str(digits)+\"d   v_A: %f    v_B: %f\")%(i,v_A,v_B))\n",
    "        if(i%1000000)==0:\n",
    "            print((\"%0\"+str(digits)+\"d\")%i)\n",
    "print(i)\n",
    "        "
   ]
  },
  {
   "cell_type": "markdown",
   "metadata": {},
   "source": [
    "So that works, at least to eight digits. I expect it to be good to the significant figures of double precision, and I also expect that it will take ten to the eighth times as long to run that far.\n",
    "\n",
    "Now, what if we do run a physics engine? What if we do track positions? What if we want to see how fast the blocks are going and how many clacks per second we reach? \n",
    "\n",
    "We can just consider the blocks as point masses -- equivalently, we will consider that if the left edge of the small block is touching the wall, the right edge is at the origin, and therefore the wall is one small block width to the left of the origin. We will track the right edge of the small block and the left edge of the big block.\n",
    "\n",
    "I can talk myself into an argument (I won't dignify it with the word \"proof\") that the try case can never happen, because it isn't possible for the small block to be moving slower than the big block while the big block is moving towards the wall. So, we will have the following cases:\n",
    "\n",
    "* If the small block is moving towards the wall:\n",
    "  - use the position of the block at the last clack and the distance to the wall to figure the time to hit the wall, then advance the clock that far, set the small block position to zero, track the big block position, and reverse the small block speed.$$\\begin{eqnarray*}\n",
    "  \\Delta t&=&-\\frac{x_{Ai}}{v_{Ai}} \\\\\n",
    "  t_{i+1}&=&t_i+\\Delta t \\\\\n",
    "  x_{Ai+1}&=&0 \\\\\n",
    "  x_{Bi+1}&=&x_{Bi}+\\Delta t v_{Bi}  \\\\\n",
    "  v_{Bi+1}&=&v_{Bi} \\\\\n",
    "  v_{Ai+1}&=&-v_{Ai} \\\\\n",
    "\\end{eqnarray*}$$\n",
    "* Else if both blocks are moving away from the wall, but the small block is slower than the big block:\n",
    "  - We are done. Report the final state\n",
    "* Else the small block will hit the big block:\n",
    "  - Use the position and speeds of both blocks to figure out when the blocks will hit. Since both blocks are moving linearly, this is where the lines intersect.$$\\begin{eqnarray*}\n",
    "  x_{Ai}+\\Delta t v_{Ai}&=&x_{Bi}+\\Delta t v_{Bi}\\\\\n",
    "  \\Delta t v_{Ai}-\\Delta t v_{Bi}&=&x_{Bi}-x_{Ai}\\\\\n",
    "  \\Delta t(v_{Ai}-v_{Bi})&=&x_{Bi}-x_{Ai}\\\\\n",
    "  \\Delta t&=&\\frac{x_{Bi}-x_{Ai}}{v_{Ai}-v_{Bi}}\\\\\n",
    "\\end{eqnarray*}$$\n",
    "  - Use the normal collide() function to determine speed after the collision$$\\begin{eqnarray*}\n",
    "  (v_{Ai+1},v_{Bi+1})&=&\\operatorname{collide}(m_A,m_B,v_{Ai},v_{Bi}) \\\\\n",
    "\\end{eqnarray*}$$\n",
    "  - Update the time and position$$\\begin{eqnarray*}\n",
    "  t_{i+1}&=&t_i+\\Delta t \\\\\n",
    "  x_{Ai+1}&=&x_{Ai}+\\Delta t v_{Ai} \\\\\n",
    "  x_{Bi+1}&=&x_{Bi}+\\Delta t v_{Bi} (\\mbox{ should}=x_{Ai+1}) \\\\\n",
    "\\end{eqnarray*}$$\n"
   ]
  },
  {
   "cell_type": "code",
   "execution_count": null,
   "metadata": {},
   "outputs": [],
   "source": [
    "done=False\n",
    "digits=8\n",
    "m_A=1\n",
    "m_B=m_A*100**(digits-1)\n",
    "x_A=1\n",
    "x_B=2\n",
    "v_A=0\n",
    "v_B=-1\n",
    "i=0\n",
    "t=0\n",
    "ts=[0]\n",
    "v_As=[v_A]\n",
    "min_dt=float('inf')\n",
    "max_Va=-float('inf')\n",
    "min_Xb=float('inf')\n",
    "print(\"m_A: %e    m_B: %e\"%(m_A,m_B))\n",
    "print((\"0%\"+str(digits)+\"d t: %e    x_A: %e    v_A: %e    x_B: %e  v_B: %e\")%(i,t,x_A,v_A,x_B,v_B))\n",
    "while not done:\n",
    "    if v_A<0:\n",
    "        dt=-x_A/v_A\n",
    "        t=t+dt\n",
    "        x_A=0\n",
    "        x_B=x_B+dt*v_B\n",
    "        v_A=-v_A\n",
    "    else:\n",
    "        if v_B>v_A:\n",
    "            done=True\n",
    "            print(\"Done\")\n",
    "        else:\n",
    "            dt=(x_B-x_A)/(v_A-v_B)\n",
    "            x_A=x_A+dt*v_A\n",
    "            x_B=x_B+dt*v_B\n",
    "            (v_A,v_B)=collide(m_A,m_B,v_A,v_B)\n",
    "            t=t+dt\n",
    "    if(v_A>max_Va):\n",
    "        max_Va=v_A\n",
    "    if(dt<min_dt):\n",
    "        min_dt=dt\n",
    "    if(x_B<min_Xb):\n",
    "        min_Xb=x_B\n",
    "    if not done:\n",
    "        i+=1\n",
    "        ts.append(t)\n",
    "        v_As.append(v_A)\n",
    "        if(i%10**(digits-2))==0:\n",
    "            print((\"%0\"+str(digits)+\"d t: %e    x_A: %e    v_A: %e    x_B: %e  v_B: %e\")%(i,t,x_A,v_A,x_B,v_B))\n",
    "print(\"%d %e %e %e %e\"%(i,min_Xb,min_dt,1.0/min_dt,max_Va))\n",
    "plt.figure(\"Speed of block A\")\n",
    "plt.plot(np.array(ts),np.abs(np.array(v_As)))\n",
    "plt.show()"
   ]
  },
  {
   "cell_type": "markdown",
   "metadata": {},
   "source": [
    "Evidence suggests that as the mass increases:\n",
    "* The minimum distance of block B to the wall is $k\\sqrt{\\frac{m_B}{m_A}}$\n",
    "* The maximum speed of block A is $|v_{B0}\\sqrt{\\frac{m_B}{m_A}}|$,\n",
    "* "
   ]
  },
  {
   "cell_type": "code",
   "execution_count": null,
   "metadata": {},
   "outputs": [],
   "source": []
  }
 ],
 "metadata": {
  "kernelspec": {
   "display_name": "Python 3",
   "language": "python",
   "name": "python3"
  },
  "language_info": {
   "codemirror_mode": {
    "name": "ipython",
    "version": 3
   },
   "file_extension": ".py",
   "mimetype": "text/x-python",
   "name": "python",
   "nbconvert_exporter": "python",
   "pygments_lexer": "ipython3",
   "version": "3.8.2"
  }
 },
 "nbformat": 4,
 "nbformat_minor": 4
}
