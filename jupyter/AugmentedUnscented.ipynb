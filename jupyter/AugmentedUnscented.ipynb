{
 "cells": [
  {
   "cell_type": "code",
   "execution_count": null,
   "metadata": {},
   "outputs": [],
   "source": [
    "%matplotlib notebook\n"
   ]
  },
  {
   "cell_type": "code",
   "execution_count": null,
   "metadata": {},
   "outputs": [],
   "source": [
    "%%capture\n",
    "%run UnscentedKalman.ipynb\n"
   ]
  },
  {
   "cell_type": "markdown",
   "metadata": {},
   "source": [
    "$$\n",
    "\\def\\M#1{{[\\mathbf{#1}]}}\n",
    "\\def\\MM#1#2{{[\\mathbf{#1}{#2}]}}\n",
    "\\def\\E{\\operatorname{E}}\n",
    "\\def\\cov{\\operatorname{cov}}\n",
    "\\def\\T{^\\mathsf{T}}\n",
    "$$"
   ]
  },
  {
   "cell_type": "markdown",
   "metadata": {},
   "source": [
    "# Augmented state\n",
    "If we are considering nonlinear transformations, we might as well consider nonlinear process noise as well. Instead of in the form:\n",
    "\n",
    "$$\\begin{eqnarray*}\n",
    "\\vec{x}^-&=&f(\\vec{x}_{i-1})+\\vec{v} \\\\\n",
    "\\MM{P}{^-}&=&UT(f,\\MM{P}{_{i-1}})+\\M Q\n",
    "\\end{eqnarray*}$$\n",
    "\n",
    "we *augment* the state vector with a process noise vector. \n",
    "\n",
    "$$\\vec{x}_a=\\begin{bmatrix}\\vec{x} \\\\ - \\\\ \\vec{v}\\end{bmatrix}$$\n",
    "\n",
    "We will need an augmented physics function $f_a$ as well, which accepts an augmented vector and uses the noise vector components to implement noise (not in general adding the noise). The return vector will be un-augmented, and therefore the covariance is compatible with the un-augmented state vector.\n",
    "\n",
    "So if we have a state vector $\\vec{x}$ with $n$ components, and noise vector $\\vec{v}$ with $\\ell$ components, we will end up with an augmented state vector $\\vec{x}_a$ with $n+\\ell$ components. We then generate sigma points with an augmented covariance -- often it is a block-diagonal covariance like this:\n",
    "\n",
    "$$\\MM{P}{_a}=\\begin{bmatrix}\\M P & \\MM{0}{_{n \\times \\ell}} \\\\\n",
    "                               \\MM{0}{_{\\ell \\times n}} & \\M{Q}\\end{bmatrix}$$\n",
    "                               \n",
    "The off-diagonal blocks are the cross-covariance between the state and the process noise. It's fair to treat them as zero, meaning that there is no correlation between the state and the noise.\n",
    "\n",
    "When we generate sigma points with the augmented covariance, we will end up with $2(n+\\ell)+1$ sigma points, each of which is $n+\\ell$ elements long. After running all of them through the augmented nonlinear transformation, we will end up with $2(n+\\ell)+1$ points still, but now each vector is only $n$ elements long. When we calculate the updated covariance $\\M P$, it will only be $n \\times n$.\n",
    "\n",
    "$$\\begin{eqnarray*}\n",
    "\\vec{x}^-&=&f(x_{a,i-1}) \\\\\n",
    "\\MM{P}{^-}&=&UT(f_a,\\MM{P}{_{a,i-1}})\n",
    "\\end{eqnarray*}$$"
   ]
  },
  {
   "cell_type": "code",
   "execution_count": null,
   "metadata": {},
   "outputs": [],
   "source": []
  },
  {
   "cell_type": "markdown",
   "metadata": {},
   "source": [
    "This particular problem is quite sensitive to the integrator and number of time substeps used. \n",
    "\n",
    "# Example 2 - Atmospheric Entry\n",
    "Let's try another one -- the dreaded Atmospheric Entry problem that the original authors used as their test case.\n",
    "\n",
    "The following problem is simple to describe but apparently is a difficult problem for the extended Kalman filter to handle. \n",
    "\n",
    "A spherical reentry vehicle (no lift) is entering the atmosphere of Earth at a relatively steep angle and orbital speed. The rotation of the Earth is neglected, and all motion happens in a plane. \n",
    "\n",
    "The atmosphere model is a simple exponential, and the ballistic coefficient not a function of mach number. The ballistic coefficient is subject to a random walk, as are both components of the velocity, but not either component of the position.\n",
    "\n",
    "A radar station is tracking the vehicle, producing range and azimuth measurements at a high rate. \n",
    "## Equations of Motion\n",
    "The state vector $\\vec{x}$ to be estimated is the 2D position ($x_1$ and $x_2$), 2D velocity ($x_3$ and $x_4$), and ballistic coefficient of the vehicle ($x_5$). As stated above, the motion is subject to a random walk $\\vec{v}$ on three components, the 2D velocity ($v_1$ and $v_2$) and ballistic coefficient ($v_3$). The equations of motion of the vehicle are then as follows:\n",
    "\n",
    "$$\\begin{eqnarray*}\n",
    "\\dot{x}_1&=&x_3\\\\\n",
    "\\dot{x}_2&=&x_4\\\\\n",
    "\\dot{x}_3&=&Dx_3+Gx_1+v_1\\\\\n",
    "\\dot{x}_4&=&Dx_4+Gx_2+v_2\\\\\n",
    "\\dot{x}_5&=&v_3\n",
    "\\end{eqnarray*}$$\n",
    "\n",
    "where $D$ is the drag-related force term, $G$ is the gravity-related force term, $R$ is the distance from the reentry vehicle to the center of the Earth, $R_0$ is the radius of the Earth, $Gm_0$ is the gravitational parameter of the Earth, and $H_0$ is the density scale height of the atmosphere. These terms are evaluated as follows:\n",
    "\n",
    "{{sidebar|Both UKF0.pfd and UKF1.pdf had an error here, $\\beta_0$ should be positive}}\n",
    "$$\\begin{align}\n",
    "R_0=&6374\\mbox{ km}\\\\\n",
    "Gm_0=&3.9860\\times 10^5 \\mbox{ km}^3/\\mbox{s}^2\\\\\n",
    "H_0=&13.406 \\mbox{ km}\\\\\n",
    "\\beta_0=&0.59783 \\\\\n",
    "R=&\\sqrt{x_1^2+x_2^2}\\\\\n",
    "V=&\\sqrt{x_3^2+x_4^2}\\\\\n",
    "\\beta=&\\beta_0 e^{x_5}\\\\\n",
    "G=&-\\frac{Gm_0}{R^3}\\\\\n",
    "D=&-\\beta V e^{\\left\\{\\frac{R_0-R}{H_0}\\right\\}}\\\\\n",
    "\\end{align}$$\n",
    "\n",
    "The $G$ term does in fact produce the centrally-directed inverse-square term we've grown to know and love, and the $D$ term does produce a drag opposite in direction to the velocity with magnitude proportional to the square of the speed.\n",
    "\n",
    "The ballistic coefficient $\\beta$ is calculated in this roundabout manner rather than directly estimated because the filter is not smart enough to constrain the ballistic coefficient to be positive. With this indirect method, any real number state vector component produces a valid positive ballistic coefficient."
   ]
  },
  {
   "cell_type": "code",
   "execution_count": null,
   "metadata": {},
   "outputs": [],
   "source": [
    "x_1=sympy.symbols(\"x_1\")\n",
    "x_2=sympy.symbols(\"x_2\")\n",
    "x_3=sympy.symbols(\"x_3\")\n",
    "x_4=sympy.symbols(\"x_4\")\n",
    "x_5=sympy.symbols(\"x_5\")\n",
    "#v_1=sympy.symbols(\"v_1\")\n",
    "#v_2=sympy.symbols(\"v_2\")\n",
    "#v_3=sympy.symbols(\"v_3\")\n",
    "R_0=6374\n",
    "Gm_0=3.9860e5\n",
    "H_0=13.406\n",
    "beta_0=0.59783\n",
    "R=sympy.sqrt(x_1**2+x_2**2)\n",
    "V=sympy.sqrt(x_3**2+x_4**2)\n",
    "beta=beta_0*sympy.exp(x_5)\n",
    "G=-Gm_0/R**3\n",
    "D=-beta*V*sympy.exp((R_0-R)/H_0)\n",
    "Fx_1=x_3\n",
    "Fx_2=x_4\n",
    "Fx_3=D*x_3+G*x_1#+v_1\n",
    "Fx_4=D*x_4+G*x_2#+v_2\n",
    "Fx_5=0#v_3\n",
    "display(sympy.simplify(Fx_3))\n",
    "display(sympy.simplify(Fx_4))\n",
    "(Fre,Phire)=fjac([x_1,x_2,x_3,x_4,x_5],[],[Fx_1,Fx_2,Fx_3,Fx_4,Fx_5])\n"
   ]
  },
  {
   "cell_type": "markdown",
   "metadata": {},
   "source": [
    "## Measurement equations\n",
    "The vehicle is tracked by a radar at $(x_r,y_r)$ which produces range and azimuth measurements. The measurements are determined from the state vector as follows:\n",
    "\n",
    "$$\\begin{align}\n",
    "r_r=&\\sqrt{(x_1-x_r)^2+(x_2-y_r)^2}+w_1\\\\\n",
    "\\theta=&\\tan^{-1}\\left(\\frac{x_2-y_r}{x_1-x_r}\\right)+w_2\n",
    "\\end{align}$$\n",
    "\n",
    "{{sidebar|UKF0.pdf calls out this matrix only in the text and is inconsistent with the units. The units of variance must be $\\mbox{m}^2$ and $\\mbox{mrad}^2$ but are specified as $\\mbox{m}$ and $\\mbox{mrad}$. To correct this, either change the units and interpret the numbers as variances, or interpret the numbers as standard deviations and square them for the matrix. The matrix to the right does the former.}}\n",
    "The measurements have a covariance as follows:\n",
    "\n",
    "$$\\M{R}=\\begin{bmatrix}0.001 & 0 \\\\\n",
    "0 & 0.017\\end{bmatrix}$$\n",
    "\n",
    "This means that the noise components are uncorrelated.\n"
   ]
  },
  {
   "cell_type": "code",
   "execution_count": null,
   "metadata": {},
   "outputs": [],
   "source": [
    "x_r=R_0\n",
    "y_r=0\n",
    "w_1=sympy.symbols('w_1')\n",
    "w_2=sympy.symbols('w_2')\n",
    "r_r=sympy.sqrt((x_1-x_r)**2+(x_2-y_r)**2)+w_1\n",
    "theta=sympy.atan((x_2-y_r)/(x_1-x_r))+w_2\n",
    "display(r_r)\n",
    "display(theta)"
   ]
  },
  {
   "cell_type": "markdown",
   "metadata": {},
   "source": [
    "The problem initial conditions are:"
   ]
  },
  {
   "cell_type": "code",
   "execution_count": null,
   "metadata": {},
   "outputs": [],
   "source": [
    "t0=0\n",
    "t1=20\n",
    "dt=0.1\n",
    "ts=np.arange(t0,t1,dt) #Time series\n",
    "n_t=ts.size\n",
    "x0=np.array([[6500.4],[349.14],[-1.8093],[-6.7967],[0.6932]])\n",
    "P0=np.diag([1e-6,1e-6,1e-6,1e-6,1e-12])\n",
    "nstep=2"
   ]
  },
  {
   "cell_type": "code",
   "execution_count": null,
   "metadata": {},
   "outputs": [],
   "source": [
    "#Monte Carlo initial condition\n",
    "n_cloud=1000 #Number of elements in the point cloud\n",
    "nr.seed(3217)\n",
    "xm = pnoise(n_cloud, P0, x0)\n",
    "#EKF initial condition\n",
    "xe = x0.copy()\n",
    "Pe = P0.copy()\n",
    "#Unscented initial condition\n",
    "(xu, W) = sigma(x0, P0)\n",
    "\n",
    "plt.figure(\"Entry problem\")\n",
    "plt.plot([0], [0], 'kx')\n",
    "\n",
    "dt=ts[1]-ts[0]\n",
    "for i, t in enumerate(ts):\n",
    "    if i % 20 == 0 or i+1==len(ts):\n",
    "        if i+1==len(ts):\n",
    "            plt.plot(xm[0, :], xm[1, :], 'r+',label=\"Monte Carlo point cloud\")\n",
    "        (xmbar, Pm) = pcalc(xm)\n",
    "        (cm, sm) = pell(3, Pm[0:2,0:2], xmbar[0:2])\n",
    "        plt.plot(cm, sm, 'r-',label='Monte Carlo' if i==0 else None)\n",
    "\n",
    "        if i+1==len(ts):\n",
    "            plt.plot(xe[0, :], xe[1, :], 'bo',label=\"EKF estimate\")\n",
    "        (ce, se) = pell(3, Pe[0:2,0:2], xe[0:2])\n",
    "        plt.plot(ce, se, 'b-',label='Linearized' if i==0 else None)\n",
    "\n",
    "        if i+1==len(ts):\n",
    "            plt.plot(xu[0, :], xu[1, :], 'g+',label=\"Sigma point cloud\")\n",
    "        (xubar, Pu) = sigmainv(xu, W)\n",
    "        (cu, su) = pell(3, Pu[0:2,0:2], xubar[0:2])\n",
    "        plt.plot(cu, su, 'g-',label='Unscented' if i==0 else None)\n",
    "    xm = euler(Fre, dt, xm, nstep=nstep)\n",
    "    xu = euler(Fre, dt, xu, nstep=nstep)\n",
    "    (xe, Pe) = ekf_step(xe, Pe, dt, Fre, Phire, nstep=nstep)\n",
    "plt.axis('equal')\n",
    "plt.legend()\n",
    "plt.show()"
   ]
  },
  {
   "cell_type": "code",
   "execution_count": null,
   "metadata": {},
   "outputs": [],
   "source": []
  }
 ],
 "metadata": {
  "kernelspec": {
   "display_name": "Python 3",
   "language": "python",
   "name": "python3"
  },
  "language_info": {
   "codemirror_mode": {
    "name": "ipython",
    "version": 3
   },
   "file_extension": ".py",
   "mimetype": "text/x-python",
   "name": "python",
   "nbconvert_exporter": "python",
   "pygments_lexer": "ipython3",
   "version": "3.6.8"
  }
 },
 "nbformat": 4,
 "nbformat_minor": 2
}
